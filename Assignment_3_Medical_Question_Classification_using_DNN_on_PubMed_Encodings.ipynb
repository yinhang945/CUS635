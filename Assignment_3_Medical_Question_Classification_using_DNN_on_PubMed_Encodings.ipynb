{
  "cells": [
    {
      "cell_type": "markdown",
      "metadata": {
        "id": "view-in-github",
        "colab_type": "text"
      },
      "source": [
        "<a href=\"https://colab.research.google.com/github/yinhang945/CUS635/blob/main/Assignment_3_Medical_Question_Classification_using_DNN_on_PubMed_Encodings.ipynb\" target=\"_parent\"><img src=\"https://colab.research.google.com/assets/colab-badge.svg\" alt=\"Open In Colab\"/></a>"
      ]
    },
    {
      "cell_type": "code",
      "execution_count": 85,
      "id": "bd5a69af",
      "metadata": {
        "id": "bd5a69af"
      },
      "outputs": [],
      "source": [
        "import os\n",
        "import re\n",
        "import random\n",
        "from ast import literal_eval\n",
        "\n",
        "import pandas as pd\n",
        "import numpy as np\n",
        "import matplotlib.pyplot as plt\n",
        "\n",
        "import nltk\n",
        "from nltk import sent_tokenize, word_tokenize\n",
        "from nltk.stem import WordNetLemmatizer\n",
        "from nltk.corpus import wordnet\n",
        "from nltk.corpus import stopwords\n",
        "\n",
        "import gensim\n",
        "from gensim.models.word2vec import Word2Vec\n",
        "\n",
        "from sklearn.model_selection import train_test_split\n",
        "from sklearn.metrics import roc_auc_score, roc_curve\n",
        "\n",
        "import tensorflow\n",
        "from tensorflow.keras.preprocessing.text import Tokenizer\n",
        "from tensorflow.keras.preprocessing.sequence import pad_sequences\n",
        "from tensorflow.keras.utils import to_categorical\n",
        "from tensorflow.keras.models import Sequential\n",
        "from tensorflow.keras.layers import Dense, Flatten, Dropout\n",
        "from tensorflow.keras.layers import Embedding\n",
        "from tensorflow.keras.optimizers import SGD\n",
        "from tensorflow.keras.callbacks import ModelCheckpoint\n"
      ]
    },
    {
      "cell_type": "code",
      "execution_count": 148,
      "id": "bd40fb99",
      "metadata": {
        "id": "bd40fb99"
      },
      "outputs": [],
      "source": [
        "# Embeddings Info. We will use the Word2Vec embeddings created in 06a - 02 Notebook\n",
        "emb_file1 = './embeddings/The_Avengers_pubmed_w2v_uncased_1024_2_cbow.emb'\n",
        "emb_file2 = './embeddings/The_Avengers_pubmed_w2v_uncased_1024_2_skip.emb'\n",
        "emb_file3 = './embeddings/The_Avengers_pubmed_w2v_uncased_1024_5_cbow.emb'\n",
        "emb_file4 = './embeddings/The_Avengers_pubmed_w2v_uncased_1024_5_skip.emb'\n",
        "emb_file5 = './embeddings/The_Avengers_pubmed_w2v_uncased_1024_10_cbow.emb'\n",
        "emb_file6 = './embeddings/The_Avengers_pubmed_w2v_uncased_1024_10_skip.emb'\n",
        "emb_file7 = './embeddings/The_Avengers_pubmed_w2v_uncased_1024_20_cbow.emb'\n",
        "emb_file8 = './embeddings/The_Avengers_pubmed_w2v_uncased_1024_20_skip.emb'\n",
        "\n",
        "# Model Output Folder\n",
        "model_dir = './models'\n",
        "\n",
        "# Checkpoint Folder\n",
        "check_dir = './models/checkpoints'\n",
        "\n",
        "# Padding/Truncating strategy:\n",
        "#   'pre': padding or truncate at the beginning of sentence. We assume most valuable information at the end.\n",
        "#   'post': padding or truncate at the end of the sentence. We assume most valuable information at the beginning.\n",
        "pad_strategy='pre'\n",
        "\n",
        "# NN Hyperparameters\n",
        "epochs = 15\n",
        "batch_size = 64\n",
        "\n",
        "# Vector-space embedding hyperparameter\n",
        "n_dim = 1024\n",
        "n_unique_words = 15000 # We can use it in place of <vocabulary_size> to reduce the size of the embedding layer.\n",
        "\n",
        "# NN architecture. A dropout of 0.5 is quite standard\n",
        "n_dense = 1024\n",
        "dropout = 0.5"
      ]
    },
    {
      "cell_type": "markdown",
      "id": "e7e6c510",
      "metadata": {
        "id": "e7e6c510"
      },
      "source": [
        "## Loading the Embedding\n"
      ]
    },
    {
      "cell_type": "code",
      "execution_count": 309,
      "id": "21b3417b",
      "metadata": {
        "id": "21b3417b"
      },
      "outputs": [],
      "source": [
        "# Loading embedding if you saved it as a model\n",
        "# w2v_emb = Word2Vec.load(emb_file)\n",
        "\n",
        "# Loading embedding if you saved just the weights usng the `save_word2vec_format`\n",
        "# Set the binary flag accordingly\n",
        "from gensim.models import KeyedVectors\n",
        "# w2v_emb1 = KeyedVectors.load_word2vec_format(emb_file1, binary=False)\n",
        "# w2v_emb1 = KeyedVectors.load_word2vec_format(emb_file2, binary=False)\n",
        "# w2v_emb1 = KeyedVectors.load_word2vec_format(emb_file3, binary=False)\n",
        "# w2v_emb1 = KeyedVectors.load_word2vec_format(emb_file4, binary=False)\n",
        "# w2v_emb1 = KeyedVectors.load_word2vec_format(emb_file5, binary=False)\n",
        "# w2v_emb1 = KeyedVectors.load_word2vec_format(emb_file6, binary=False)\n",
        "# w2v_emb1 = KeyedVectors.load_word2vec_format(emb_file7, binary=False)\n",
        "w2v_emb1 = KeyedVectors.load_word2vec_format(emb_file8, binary=False)"
      ]
    },
    {
      "cell_type": "markdown",
      "id": "27bae97c",
      "metadata": {
        "id": "27bae97c"
      },
      "source": [
        "# Pre-Processing\n",
        "Tokenize the field and generate training and testing splits."
      ]
    },
    {
      "cell_type": "code",
      "execution_count": 150,
      "id": "21c2b9ff",
      "metadata": {
        "id": "21c2b9ff"
      },
      "outputs": [],
      "source": [
        "from sklearn.model_selection import train_test_split\n",
        "\n",
        "data_file = './med_questions.csv'\n",
        "df = pd.read_csv(data_file)\n",
        "df.Category = pd.Categorical(df.Category)\n",
        "df['label'] = df.Category.cat.codes"
      ]
    },
    {
      "cell_type": "code",
      "execution_count": 122,
      "id": "4001939d",
      "metadata": {
        "id": "4001939d",
        "colab": {
          "base_uri": "https://localhost:8080/"
        },
        "outputId": "a062b4ce-d55a-4579-c76f-935e8b23318f"
      },
      "outputs": [
        {
          "output_type": "stream",
          "name": "stdout",
          "text": [
            "[nltk_data] Downloading package punkt to /root/nltk_data...\n",
            "[nltk_data]   Package punkt is already up-to-date!\n"
          ]
        }
      ],
      "source": [
        "import nltk\n",
        "nltk.download('punkt')\n",
        "tokenized_questions = [word_tokenize(q.lower()) for q in df.Question.tolist()]"
      ]
    },
    {
      "cell_type": "code",
      "execution_count": 151,
      "id": "19d357ef",
      "metadata": {
        "id": "19d357ef"
      },
      "outputs": [],
      "source": [
        "df['tokens'] = tokenized_questions"
      ]
    },
    {
      "cell_type": "code",
      "execution_count": 152,
      "id": "5abdb71a",
      "metadata": {
        "id": "5abdb71a",
        "outputId": "544d97ae-1d86-4da7-9d65-fd1932d23e94",
        "colab": {
          "base_uri": "https://localhost:8080/"
        }
      },
      "outputs": [
        {
          "output_type": "stream",
          "name": "stdout",
          "text": [
            "12312 3079\n"
          ]
        }
      ],
      "source": [
        "train, test = train_test_split(df, test_size=0.2,random_state=1)\n",
        "print(len(train),len(test))"
      ]
    },
    {
      "cell_type": "code",
      "execution_count": 125,
      "id": "ac91e66d",
      "metadata": {
        "id": "ac91e66d",
        "outputId": "a7564176-0587-4273-efd6-a6a4f2f6c639",
        "colab": {
          "base_uri": "https://localhost:8080/",
          "height": 206
        }
      },
      "outputs": [
        {
          "output_type": "execute_result",
          "data": {
            "text/plain": [
              "                         Category  \\\n",
              "98     12_MPlusHerbsSupplements_Q   \n",
              "13048             10_MPlus_ADAM_Q   \n",
              "10785             10_MPlus_ADAM_Q   \n",
              "11343                   5_NIDDK_Q   \n",
              "7285              11_MPlusDrugs_Q   \n",
              "\n",
              "                                                Question  label  \\\n",
              "98                                    what is rose hip ?      2   \n",
              "13048                          what causes blepharitis ?      0   \n",
              "10785                               what causes asthma ?      0   \n",
              "11343  what causes prostate enlargement: benign prost...      7   \n",
              "7285   who should get difluprednate ophthalmic and wh...      1   \n",
              "\n",
              "                                                  tokens  \n",
              "98                              [what, is, rose, hip, ?]  \n",
              "13048                     [what, causes, blepharitis, ?]  \n",
              "10785                          [what, causes, asthma, ?]  \n",
              "11343  [what, causes, prostate, enlargement, :, benig...  \n",
              "7285   [who, should, get, difluprednate, ophthalmic, ...  "
            ],
            "text/html": [
              "\n",
              "  <div id=\"df-d3b48bce-a834-46f1-bed4-e97a1693ccbf\">\n",
              "    <div class=\"colab-df-container\">\n",
              "      <div>\n",
              "<style scoped>\n",
              "    .dataframe tbody tr th:only-of-type {\n",
              "        vertical-align: middle;\n",
              "    }\n",
              "\n",
              "    .dataframe tbody tr th {\n",
              "        vertical-align: top;\n",
              "    }\n",
              "\n",
              "    .dataframe thead th {\n",
              "        text-align: right;\n",
              "    }\n",
              "</style>\n",
              "<table border=\"1\" class=\"dataframe\">\n",
              "  <thead>\n",
              "    <tr style=\"text-align: right;\">\n",
              "      <th></th>\n",
              "      <th>Category</th>\n",
              "      <th>Question</th>\n",
              "      <th>label</th>\n",
              "      <th>tokens</th>\n",
              "    </tr>\n",
              "  </thead>\n",
              "  <tbody>\n",
              "    <tr>\n",
              "      <th>98</th>\n",
              "      <td>12_MPlusHerbsSupplements_Q</td>\n",
              "      <td>what is rose hip ?</td>\n",
              "      <td>2</td>\n",
              "      <td>[what, is, rose, hip, ?]</td>\n",
              "    </tr>\n",
              "    <tr>\n",
              "      <th>13048</th>\n",
              "      <td>10_MPlus_ADAM_Q</td>\n",
              "      <td>what causes blepharitis ?</td>\n",
              "      <td>0</td>\n",
              "      <td>[what, causes, blepharitis, ?]</td>\n",
              "    </tr>\n",
              "    <tr>\n",
              "      <th>10785</th>\n",
              "      <td>10_MPlus_ADAM_Q</td>\n",
              "      <td>what causes asthma ?</td>\n",
              "      <td>0</td>\n",
              "      <td>[what, causes, asthma, ?]</td>\n",
              "    </tr>\n",
              "    <tr>\n",
              "      <th>11343</th>\n",
              "      <td>5_NIDDK_Q</td>\n",
              "      <td>what causes prostate enlargement: benign prost...</td>\n",
              "      <td>7</td>\n",
              "      <td>[what, causes, prostate, enlargement, :, benig...</td>\n",
              "    </tr>\n",
              "    <tr>\n",
              "      <th>7285</th>\n",
              "      <td>11_MPlusDrugs_Q</td>\n",
              "      <td>who should get difluprednate ophthalmic and wh...</td>\n",
              "      <td>1</td>\n",
              "      <td>[who, should, get, difluprednate, ophthalmic, ...</td>\n",
              "    </tr>\n",
              "  </tbody>\n",
              "</table>\n",
              "</div>\n",
              "      <button class=\"colab-df-convert\" onclick=\"convertToInteractive('df-d3b48bce-a834-46f1-bed4-e97a1693ccbf')\"\n",
              "              title=\"Convert this dataframe to an interactive table.\"\n",
              "              style=\"display:none;\">\n",
              "        \n",
              "  <svg xmlns=\"http://www.w3.org/2000/svg\" height=\"24px\"viewBox=\"0 0 24 24\"\n",
              "       width=\"24px\">\n",
              "    <path d=\"M0 0h24v24H0V0z\" fill=\"none\"/>\n",
              "    <path d=\"M18.56 5.44l.94 2.06.94-2.06 2.06-.94-2.06-.94-.94-2.06-.94 2.06-2.06.94zm-11 1L8.5 8.5l.94-2.06 2.06-.94-2.06-.94L8.5 2.5l-.94 2.06-2.06.94zm10 10l.94 2.06.94-2.06 2.06-.94-2.06-.94-.94-2.06-.94 2.06-2.06.94z\"/><path d=\"M17.41 7.96l-1.37-1.37c-.4-.4-.92-.59-1.43-.59-.52 0-1.04.2-1.43.59L10.3 9.45l-7.72 7.72c-.78.78-.78 2.05 0 2.83L4 21.41c.39.39.9.59 1.41.59.51 0 1.02-.2 1.41-.59l7.78-7.78 2.81-2.81c.8-.78.8-2.07 0-2.86zM5.41 20L4 18.59l7.72-7.72 1.47 1.35L5.41 20z\"/>\n",
              "  </svg>\n",
              "      </button>\n",
              "      \n",
              "  <style>\n",
              "    .colab-df-container {\n",
              "      display:flex;\n",
              "      flex-wrap:wrap;\n",
              "      gap: 12px;\n",
              "    }\n",
              "\n",
              "    .colab-df-convert {\n",
              "      background-color: #E8F0FE;\n",
              "      border: none;\n",
              "      border-radius: 50%;\n",
              "      cursor: pointer;\n",
              "      display: none;\n",
              "      fill: #1967D2;\n",
              "      height: 32px;\n",
              "      padding: 0 0 0 0;\n",
              "      width: 32px;\n",
              "    }\n",
              "\n",
              "    .colab-df-convert:hover {\n",
              "      background-color: #E2EBFA;\n",
              "      box-shadow: 0px 1px 2px rgba(60, 64, 67, 0.3), 0px 1px 3px 1px rgba(60, 64, 67, 0.15);\n",
              "      fill: #174EA6;\n",
              "    }\n",
              "\n",
              "    [theme=dark] .colab-df-convert {\n",
              "      background-color: #3B4455;\n",
              "      fill: #D2E3FC;\n",
              "    }\n",
              "\n",
              "    [theme=dark] .colab-df-convert:hover {\n",
              "      background-color: #434B5C;\n",
              "      box-shadow: 0px 1px 3px 1px rgba(0, 0, 0, 0.15);\n",
              "      filter: drop-shadow(0px 1px 2px rgba(0, 0, 0, 0.3));\n",
              "      fill: #FFFFFF;\n",
              "    }\n",
              "  </style>\n",
              "\n",
              "      <script>\n",
              "        const buttonEl =\n",
              "          document.querySelector('#df-d3b48bce-a834-46f1-bed4-e97a1693ccbf button.colab-df-convert');\n",
              "        buttonEl.style.display =\n",
              "          google.colab.kernel.accessAllowed ? 'block' : 'none';\n",
              "\n",
              "        async function convertToInteractive(key) {\n",
              "          const element = document.querySelector('#df-d3b48bce-a834-46f1-bed4-e97a1693ccbf');\n",
              "          const dataTable =\n",
              "            await google.colab.kernel.invokeFunction('convertToInteractive',\n",
              "                                                     [key], {});\n",
              "          if (!dataTable) return;\n",
              "\n",
              "          const docLinkHtml = 'Like what you see? Visit the ' +\n",
              "            '<a target=\"_blank\" href=https://colab.research.google.com/notebooks/data_table.ipynb>data table notebook</a>'\n",
              "            + ' to learn more about interactive tables.';\n",
              "          element.innerHTML = '';\n",
              "          dataTable['output_type'] = 'display_data';\n",
              "          await google.colab.output.renderOutput(dataTable, element);\n",
              "          const docLink = document.createElement('div');\n",
              "          docLink.innerHTML = docLinkHtml;\n",
              "          element.appendChild(docLink);\n",
              "        }\n",
              "      </script>\n",
              "    </div>\n",
              "  </div>\n",
              "  "
            ]
          },
          "metadata": {},
          "execution_count": 125
        }
      ],
      "source": [
        "train.head()"
      ]
    },
    {
      "cell_type": "code",
      "execution_count": 153,
      "id": "f443c80a",
      "metadata": {
        "id": "f443c80a"
      },
      "outputs": [],
      "source": [
        "# Utility Dictionaries\n",
        "label_to_cat = dict(zip(df['Category'],df['label']))\n",
        "cat_to_label = dict(zip(df['label'],df['Category']))"
      ]
    },
    {
      "cell_type": "markdown",
      "id": "f7d6874f",
      "metadata": {
        "id": "f7d6874f"
      },
      "source": [
        "## Generate the Space Vectors for a Token-Based Embeddings\n",
        "This is the process for using a token based embeddings; use the **Generate NERs** process when using an NERs-based embeddings.  \n",
        "  \n",
        "  **NOTE:** See this process in the 05 - KNN Classification using Request Encodings."
      ]
    },
    {
      "cell_type": "code",
      "execution_count": 154,
      "id": "0b34617b",
      "metadata": {
        "id": "0b34617b"
      },
      "outputs": [],
      "source": [
        "corpus = train['tokens'].tolist()\n",
        "corpus_val = test['tokens'].tolist()"
      ]
    },
    {
      "cell_type": "markdown",
      "id": "45cdc650",
      "metadata": {
        "id": "45cdc650"
      },
      "source": [
        "## Create dictionary of indexed words including PAD, START, and UNK"
      ]
    },
    {
      "cell_type": "code",
      "execution_count": 310,
      "id": "0a3ac19d",
      "metadata": {
        "id": "0a3ac19d"
      },
      "outputs": [],
      "source": [
        "word_dict={}\n",
        "word_dict[\"_PAD_\"] = 0\n",
        "word_dict[\"_START_\"] = 1\n",
        "word_dict[\"_UNK_\"] = 2\n",
        "\n",
        "idx = 3\n",
        "for word in w2v_emb1.vocab.keys():\n",
        "    word_dict[word] = idx\n",
        "    idx+=1"
      ]
    },
    {
      "cell_type": "code",
      "execution_count": 311,
      "id": "53899a63",
      "metadata": {
        "id": "53899a63"
      },
      "outputs": [],
      "source": [
        "# Decoder used to decode encoded string\n",
        "word_decoder = {}\n",
        "for key in word_dict.keys():\n",
        "    word_decoder[word_dict[key]] = key"
      ]
    },
    {
      "cell_type": "code",
      "execution_count": 312,
      "id": "224fa291",
      "metadata": {
        "id": "224fa291",
        "outputId": "08717cab-00de-45b9-94c0-1d24c93ed03d",
        "colab": {
          "base_uri": "https://localhost:8080/"
        }
      },
      "outputs": [
        {
          "output_type": "stream",
          "name": "stdout",
          "text": [
            "Vocabulary Size: 74999\n"
          ]
        }
      ],
      "source": [
        "# We are including in the vocabulary size the three special strings\n",
        "vocabulary_size = len(word_dict.keys())\n",
        "print('Vocabulary Size:', vocabulary_size)"
      ]
    },
    {
      "cell_type": "code",
      "execution_count": 192,
      "id": "7a4ff478",
      "metadata": {
        "id": "7a4ff478"
      },
      "outputs": [],
      "source": [
        "def get_W(embedding, word_dict):\n",
        "    vocabulary_size = len(word_dict.keys())\n",
        "    W = np.zeros((vocabulary_size, n_dim))\n",
        "    \n",
        "    for key in word_dict.keys():\n",
        "        if key == '_PAD_' or key =='_START_':\n",
        "            embedding_vector = pad_vector\n",
        "        elif key == '_UNK_':\n",
        "            embedding_vector = unk_vector\n",
        "        else:\n",
        "            embedding_vector = embedding[key]\n",
        "        W[word_dict[key]] = embedding_vector\n",
        "    return W"
      ]
    },
    {
      "cell_type": "code",
      "execution_count": 313,
      "id": "54a46322",
      "metadata": {
        "id": "54a46322",
        "outputId": "539285b6-dfba-4d29-8046-a1dd6d2bd094",
        "colab": {
          "base_uri": "https://localhost:8080/"
        }
      },
      "outputs": [
        {
          "output_type": "stream",
          "name": "stdout",
          "text": [
            "[0, 0, 0, 0, 0, 0, 0, 0, 0, 0, 0, 0, 0, 0, 0, 0, 0, 0, 0, 0, 0, 0, 0, 0, 0, 0, 0, 0, 0, 0, 0, 0, 0, 0, 0, 0, 0, 0, 0, 0, 0, 0, 0, 0, 0, 0, 0, 0, 0, 0, 0, 0, 0, 0, 0, 0, 0, 0, 0, 0, 0, 0, 0, 0, 0, 0, 0, 0, 0, 0, 0, 0, 0, 0, 0, 0, 0, 0, 0, 0, 0, 0, 0, 0, 0, 0, 0, 0, 0, 0, 0, 0, 0, 0, 0, 0, 0, 0, 0, 0, 0, 0, 0, 0, 0, 0, 0, 0, 0, 0, 0, 0, 0, 0, 0, 0, 0, 0, 0, 0, 0, 0, 0, 0, 0, 0, 0, 0, 0, 0, 0, 0, 0, 0, 0, 0, 0, 0, 0, 0, 0, 0, 0, 0, 0, 0, 0, 0, 0, 0, 0, 0, 0, 0, 0, 0, 0, 0, 0, 0, 0, 0, 0, 0, 0, 0, 0, 0, 0, 0, 0, 0, 0, 0, 0, 0, 0, 0, 0, 0, 0, 0, 0, 0, 0, 0, 0, 0, 0, 0, 0, 0, 0, 0, 0, 0, 0, 0, 0, 0, 0, 0, 0, 0, 0, 0, 0, 0, 0, 0, 0, 0, 0, 0, 0, 0, 0, 0, 0, 0, 0, 0, 0, 0, 0, 0, 0, 0, 0, 0, 0, 0, 0, 0, 0, 0, 0, 0, 0, 0, 0, 0, 0, 0, 0, 0, 0, 0, 0, 0, 0, 0, 0, 0, 0, 0, 0, 0, 0, 0, 0, 0, 0, 0, 0, 0, 0, 0, 0, 0, 0, 0, 0, 0, 0, 0, 0, 0, 0, 0, 0, 0, 0, 0, 0, 0, 0, 0, 0, 0, 0, 0, 0, 0, 0, 0, 0, 0, 0, 0, 0, 0, 0, 0, 0, 0, 0, 0, 0, 0, 0, 0, 0, 0, 0, 0, 0, 0, 0, 0, 0, 0, 0, 0, 0, 0, 0, 0, 0, 0, 0, 0, 0, 0, 0, 0, 0, 0, 0, 0, 0, 0, 0, 0, 0, 0, 0, 0, 0, 0, 0, 0, 0, 0, 0, 0, 0, 0, 0, 0, 0, 0, 0, 0, 0, 0, 0, 0, 0, 0, 0, 0, 0, 0, 0, 0, 0, 0, 0, 0, 0, 0, 0, 0, 0, 0, 0, 0, 0, 0, 0, 0, 0, 0, 0, 0, 0, 0, 0, 0, 0, 0, 0, 0, 0, 0, 0, 0, 0, 0, 0, 0, 0, 0, 0, 0, 0, 0, 0, 0, 0, 0, 0, 0, 0, 0, 0, 0, 0, 0, 0, 0, 0, 0, 0, 0, 0, 0, 0, 0, 0, 0, 0, 0, 0, 0, 0, 0, 0, 0, 0, 0, 0, 0, 0, 0, 0, 0, 0, 0, 0, 0, 0, 0, 0, 0, 0, 0, 0, 0, 0, 0, 0, 0, 0, 0, 0, 0, 0, 0, 0, 0, 0, 0, 0, 0, 0, 0, 0, 0, 0, 0, 0, 0, 0, 0, 0, 0, 0, 0, 0, 0, 0, 0, 0, 0, 0, 0, 0, 0, 0, 0, 0, 0, 0, 0, 0, 0, 0, 0, 0, 0, 0, 0, 0, 0, 0, 0, 0, 0, 0, 0, 0, 0, 0, 0, 0, 0, 0, 0, 0, 0, 0, 0, 0, 0, 0, 0, 0, 0, 0, 0, 0, 0, 0, 0, 0, 0, 0, 0, 0, 0, 0, 0, 0, 0, 0, 0, 0, 0, 0, 0, 0, 0, 0, 0, 0, 0, 0, 0, 0, 0, 0, 0, 0, 0, 0, 0, 0, 0, 0, 0, 0, 0, 0, 0, 0, 0, 0, 0, 0, 0, 0, 0, 0, 0, 0, 0, 0, 0, 0, 0, 0, 0, 0, 0, 0, 0, 0, 0, 0, 0, 0, 0, 0, 0, 0, 0, 0, 0, 0, 0, 0, 0, 0, 0, 0, 0, 0, 0, 0, 0, 0, 0, 0, 0, 0, 0, 0, 0, 0, 0, 0, 0, 0, 0, 0, 0, 0, 0, 0, 0, 0, 0, 0, 0, 0, 0, 0, 0, 0, 0, 0, 0, 0, 0, 0, 0, 0, 0, 0, 0, 0, 0, 0, 0, 0, 0, 0, 0, 0, 0, 0, 0, 0, 0, 0, 0, 0, 0, 0, 0, 0, 0, 0, 0, 0, 0, 0, 0, 0, 0, 0, 0, 0, 0, 0, 0, 0, 0, 0, 0, 0, 0, 0, 0, 0, 0, 0, 0, 0, 0, 0, 0, 0, 0, 0, 0, 0, 0, 0, 0, 0, 0, 0, 0, 0, 0, 0, 0, 0, 0, 0, 0, 0, 0, 0, 0, 0, 0, 0, 0, 0, 0, 0, 0, 0, 0, 0, 0, 0, 0, 0, 0, 0, 0, 0, 0, 0, 0, 0, 0, 0, 0, 0, 0, 0, 0, 0, 0, 0, 0, 0, 0, 0, 0, 0, 0, 0, 0, 0, 0, 0, 0, 0, 0, 0, 0, 0, 0, 0, 0, 0, 0, 0, 0, 0, 0, 0, 0, 0, 0, 0, 0, 0, 0, 0, 0, 0, 0, 0, 0, 0, 0, 0, 0, 0, 0, 0, 0, 0, 0, 0, 0, 0, 0, 0, 0, 0, 0, 0, 0, 0, 0, 0, 0, 0, 0, 0, 0, 0, 0, 0, 0, 0, 0, 0, 0, 0, 0, 0, 0, 0, 0, 0, 0, 0, 0, 0, 0, 0, 0, 0, 0, 0, 0, 0, 0, 0, 0, 0, 0, 0, 0, 0, 0, 0, 0, 0, 0, 0, 0, 0, 0, 0, 0, 0, 0, 0, 0, 0, 0, 0, 0, 0, 0, 0, 0, 0, 0, 0, 0, 0, 0, 0, 0, 0, 0, 0, 0, 0, 0, 0, 0, 0, 0, 0, 0, 0, 0, 0, 0, 0, 0, 0, 0, 0, 0, 0, 0, 0, 0, 0, 0, 0, 0, 0, 0, 0, 0, 0, 0, 0, 0, 0, 0, 0, 0, 0, 0, 0, 0, 0, 0, 0, 0, 0, 0, 0, 0, 0, 0, 0, 0, 0, 0, 0, 0, 0, 0, 0, 0, 0, 0, 0, 0, 0, 0, 0, 0, 0, 0, 0, 0, 0, 0, 0, 0, 0, 0, 0, 0, 0, 0, 0, 0, 0, 0, 0, 0, 0, 0, 0, 0]\n",
            "[0.008338708, 0.031106204, -0.019115452, 0.0026195226, 0.014139537, 0.001629004, 0.007553647, 0.012285034, 0.024119861, -0.021132417, -0.02312636, -0.028611591, 0.043837126, 0.016509766, -0.04439655, -0.013641682, 0.025235942, -0.07071698, 0.0038647468, -0.05239259, -0.0021767819, 0.012302742, -0.017063573, -0.011453862, -0.06763782, -0.03253569, 0.037094507, -0.067366116, -0.020560285, -0.025579559, -0.04464374, -0.03318156, 0.087258026, -0.0657151, -0.011076587, 0.006733326, 0.009529784, 0.122398674, 0.037673563, -0.11534757, 0.04158154, -0.06288788, -0.008075436, 0.043945875, 0.112624675, 0.043700475, -0.018317604, 0.004208639, 0.04235469, 0.14747313, 0.061316162, -0.069954194, -0.031866223, 0.0035300287, 0.10698669, 0.08726039, -0.02250019, -0.020392384, 0.003329229, 0.02593338, 0.0013091066, 0.055651803, -0.035050616, 0.016524438, -0.08322738, 0.022085221, 0.004026643, -0.022665843, -0.06906939, 0.004468171, -0.07752112, 0.10127304, 0.11509882, -0.03334517, -0.019279271, 0.087493725, 0.017672004, -0.024430895, 0.019176716, 0.014862277, 0.02218628, 0.00778472, 0.035900258, -0.015422666, 0.048209365, -0.0010003425, 0.067943014, -0.013199948, -0.068484396, -0.08852808, 0.042400505, 0.0061380723, 0.0013139314, 0.09448604, -0.05471378, 0.025112592, 0.009990853, -0.01602632, -0.011653731, 0.012025102, 0.018331792, 0.039671447, -0.010590456, 0.05368039, 0.0015194693, 0.03238406, -0.03517717, 0.044887442, 0.008495273, -0.0028397127, -0.027840808, -0.024321042, -0.0030301881, 0.023106571, 0.00010949498, -0.0564189, -0.034565385, -0.05062673, 0.036877308, -0.04464174, -0.12123826, -0.02055659, -0.051700447, -0.095522754, -0.026602006, -0.013681926, -0.015699213, -0.049322076, 0.017018879, -0.049423978, 0.041312817, -0.04844603, 0.024176922, -0.045747057, 0.02090145, 0.048289053, 0.029088996, -0.07881014, -0.031879507, 0.039997235, -0.011901836, 0.061596215, -0.017363928, 0.004529406, -0.051474124, 0.057669893, -0.007034684, 0.051849004, 0.023345638, 0.07664255, 0.0560817, 0.07201979, 0.04091593, -0.024007931, 0.07072676, -0.0038221308, 0.0028845724, -0.00023541712, -0.04399388, 0.026413394, -0.010106905, -0.019802596, -0.030730415, -0.011043517, 0.008983522, 0.025391372, -0.046973165, -0.014774886, 0.14561485, 0.045217205, 0.103110336, 0.06676552, -0.0082964, -0.08655568, 0.06525363, 0.03284663, -0.04339344, 0.041111995, -0.049213484, -0.08865231, 0.048074294, -0.022450782, 0.00629573, -0.08698755, -0.003404683, -0.008095822, -0.083332665, -0.07992859, 0.0011143914, 0.08057063, 0.0472374, -0.01621971, -0.015434002, -0.025018215, 0.014911685, -0.087952375, 0.01060293, 0.03285898, 0.08094061, 0.049181063, 0.0079254685, -0.084561564, -0.02950124, -0.058683794, -0.0034083968, -0.051609457, 0.00061934534, -0.007894003, -0.034919403, -0.051424734, -0.03427016, 0.05976617, 0.1641137, 0.025069537, -0.10694421, -0.07538688, -0.030470274, -0.06457211, 0.06237599, 0.0018233303, 0.012793998, 0.040356442, 0.056320418, 0.030337859, 0.036557395, 0.07577282, 0.036821768, -0.12508671, -0.015709553, -0.0041511417, -0.020161806, -0.082582414, 0.070207186, -0.10918335, -0.12096149, -0.07327386, -0.039568886, -0.0031608911, -0.003985763, 0.034228113, 0.037797153, 0.0284141, 0.030390084, -0.051019505, -0.028684778, 0.060459323, 0.044220403, -0.030754874, 0.02995406, 0.060813908, -0.01829786, -0.010439196, -0.008491484, 0.11681487, -0.024617234, -0.029832365, -0.047993172, -0.041530337, 0.12155984, 0.009474437, -0.047176827, 0.0063687293, -0.08336482, 0.06331232, 0.03569805, 0.014915157, 0.110747896, -0.027017523, -0.0241227, 0.035110816, 0.011479662, -0.052754976, 0.04004162, -0.059243042, 0.017351875, -0.029522939, 0.01816238, 0.070847265, 0.05605374, -0.0178032, 0.030549452, -0.027529407, 0.08359099, -0.12272235, 0.012812853, -0.028234322, 0.0415177, 0.053343736, 0.033619236, -0.03284343, 0.122740455, -0.028486982, -0.026204428, -0.017542602, -0.07059926, -0.01443314, 0.016420227, 0.0586532, -0.010758129, -0.009529198, -0.035066698, 0.027189761, -0.07699345, 0.07425293, -0.02723979, 0.0892069, -0.066501886, -0.10152415, 0.013343185, -0.04349005, 0.08495273, 0.0407005, -0.07937833, 0.057138234, 0.16337627, 0.027652422, -0.0162472, -0.003148373, -0.09682662, -0.023198476, 0.0062130857, -0.0030771533, 0.049339224, -0.018727235, 0.0061595035, 0.018164001, 0.011813136, -0.040902715, -0.0294413, 0.041616622, 0.04528891, 0.0033975514, -0.012724077, 0.09611824, -0.014938188, -0.023048054, 0.027761865, 0.0031831244, 0.034126744, 0.043279503, -0.13075024, 0.024739653, -0.0025287496, 0.08380111, 0.009952982, 0.07774685, -0.011770819, -0.014129025, -0.060900487, -0.11124445, -0.023644155, -0.03443945, -0.0085319355, -0.015275216, -0.09650183, 0.017261293, 0.013921952, 0.029862553, -0.0075279046, 0.030093044, -0.009821394, -0.02719509, 0.030192433, 0.052630756, 0.030460652, -0.02652071, -0.012933238, 0.03160211, 0.006148848, 0.023901258, -0.037166156, -0.027548295, 0.07492735, 0.04355514, 0.020675419, 0.06699102, -0.038430355, -0.034730416, -0.03747325, 0.011597211, 0.054878134, -0.09721807, -0.056577537, 0.03738591, 0.01022405, 0.116879895, -0.015526057, -0.02872727, -0.061885312, 0.048130833, 0.058376, -0.00020561871, 0.03851228, 0.05870355, -0.0077306875, -0.0010404692, 0.06739281, -0.06329516, 8.280088e-06, -0.02232386, 0.051557206, -0.06033444, -0.04493918, 0.010724779, 0.03429756, -0.03280138, 0.0072639575, -0.058234546, 0.06485115, 0.013773422, -0.0030694683, 0.049412142, -0.0012998288, 0.031316712, 0.00016233379, -0.01293769, 0.0565765, 0.040750742, -0.005815388, -0.046264976, -0.10108318, -0.07593286, 0.0063317823, -0.051896397, 0.046301983, -0.0049127256, -0.043258723, 0.011447319, 0.016176155, -0.030853521, 0.08499574, 0.059006635, -0.049719896, 0.09778933, 0.062212516, -0.067578144, -0.041895222, -0.040241882, -0.03222259, 0.043220446, -0.011843785, 0.0017236879, 0.042449124, -0.058566704, 0.022453198, -0.028462006, 0.07142379, -0.0642882, 0.08264959, -0.0061000125, 0.039030828, 0.036401723, -0.022461684, -0.005318411, 0.010232579, 0.035989083, 0.07821881, 0.029771512, 0.060984097, -0.0096417265, -0.029837037, -0.069194734, -0.01619997, -0.011146281, 0.082537495, 0.06845288, 0.030441223, 0.08320904, 0.016048703, 0.0958406, 0.026617594, 0.02445916, -0.0056741345, 0.026338495, -0.011498825, 0.095877506, -0.009149587, 0.093344845, 0.082253106, 0.054850347, -0.055328008, 0.064798765, -0.008688765, -0.026229199, -0.03890029, 0.012685058, 0.003235685, -0.004369713, 0.01880546, 0.07781504, 0.04907992, 0.09393933, 0.023245517, 0.009101498, -0.02334848, -0.045260243, 0.0317776, 0.014654919, 0.029514337, -0.016697528, 0.013503381, -0.0040714294, -0.033501867, 0.03531576, 0.016702255, 0.0019265105, 0.019244751, -0.026156731, -0.010537127, -0.020289307, -0.026216865, -0.044876978, -0.053116586, -0.12540917, -0.03142689, -0.0052684126, -0.020620534, 0.00040354425, -0.011218033, -0.054132927, -0.08201457, 0.05488595, -0.08728081, -0.04215156, 0.07043723, 0.09951117, -0.11491949, -0.025143987, 0.013024011, 0.014749976, 0.008288173, 0.036797125, -0.005416201, 0.065599784, -0.0701576, -0.0017099195, 0.092996486, -0.01664409, 0.0021312593, 0.007472101, 0.028376179, 0.01762374, -0.020128766, 0.05310109, -0.058742646, 0.011711632, -0.026363254, 0.03597588, 0.009405043, -0.034989186, -0.040090173, -0.009710686, -0.030657586, -0.00744485, -0.006966969, 0.00025391055, -0.031353734, -0.026020968, 0.0063924394, -0.011256254, -0.04315112, 0.0004883537, -0.016064188, 0.017081672, 0.027591351, -0.062058102, -0.010303866, 0.03571856, 0.02590894, -0.04870073, 0.009211445, -0.07634495, -0.043441527, 0.00646997, 0.03738503, -0.0026835392, -0.08932441, 0.03234285, 0.039618306, -0.055321343, -0.058570404, -0.046490375, -0.06759503, 0.048019063, -0.029069606, -0.07445112, 0.020829072, -0.050628584, 0.027971193, 0.005545388, -0.011258782, 0.021123, 0.015547854, -0.009091455, 0.023831498, 0.13386331, 0.059594467, -0.055167638, 0.007903921, -0.028334092, -0.067611165, 0.09817552, -0.04922137, -0.0034288047, 0.009173025, -0.07921942, -0.09007079, -0.01514968, 0.015573876, -0.005994498, 0.036030456, -0.0080346, 0.06217961, -0.10673465, 0.055453252, -0.06678491, -0.025066957, -0.08796143, 0.11548113, -0.030343441, -0.04100153, -0.026911559, 0.029616326, 0.057134245, 0.08353798, 0.069382586, -0.005437432, 0.03268878, 0.0420221, 0.052085467, 0.005352738, 0.104641534, -0.08033649, -0.006072596, 0.01165097, 0.027513176, -0.06475081, -0.01818863, 0.05430304, 0.014359479, 0.006162456, -0.080322444, 0.02797331, -0.053735424, -0.023843812, 0.049261805, -0.010453277, -0.095820375, 0.0036492979, -0.03641988, 0.03190677, -0.07749473, -0.02859122, 0.010551477, -0.068734705, -0.039452624, 0.03737896, -0.029391661, -0.038588192, 0.06253763, -0.01645421, 0.03706561, 0.05491021, -0.0014451665, 0.0009224238, -0.056394745, 0.0051520504, 0.0008123849, 0.022524389, -0.0013907694, -0.047405444, 0.035779517, 0.0027705901, 0.01804185, 0.010159931, 0.0721943, 0.018618958, 0.04098979, 0.03967183, -0.025036836, 0.0041760528, 0.037473653, 0.08240897, 0.119003095, -0.07455073, 0.056090165, 0.01978032, -0.010999719, -0.031936627, -0.1159753, 0.012052741, -0.059290376, -0.05462661, 0.031529564, 0.054510087, 0.106693506, -0.026215691, -0.09565618, 0.0059640673, 0.023442905, -0.019332571, 0.0072347755, 0.050685663, 0.009260829, 0.0071908245, 0.115987994, 0.012674658, 0.012326346, -0.045475587, -0.0007982497, 0.04023382, -0.07097571, 0.05709479, -0.025734441, -0.028271882, 0.033361867, 0.024135854, 0.049278367, 0.029721562, 0.017144756, 0.008088753, -0.071878076, -0.07382516, -0.007755859, 0.0074953875, -0.04411537, -0.05048018, 0.012193812, 0.027705373, 0.039194837, -0.03809782, 0.07510868, -0.05734173, 0.0041834465, -0.019265069, 0.053116743, 0.09810752, 0.097877964, 0.006075472, 0.061553076, 0.031147407, -0.0205167, 0.05499268, -0.041856084, 0.044239253, -0.029682243, -0.0639306, 0.13459525, 0.015673228, 0.07037226, -0.08391708, 0.036445975, -0.05832703, -0.049557246, 0.06412494, 0.08398902, -0.03702541, 0.017720928, 0.10801167, -0.087865084, -0.038707808, 0.01966608, 0.061653364, -0.028107062, 0.038427174, 0.0816144, 0.033923894, -0.05678926, 0.0414809, -0.045619566, 0.012463246, 0.087136686, -0.019706037, 0.0058426275, -0.010045938, -0.04475099, 0.032222666, 0.045127243, 0.0131485, 0.08553735, 0.050843123, 0.07827223, -0.04268277, -0.021695292, 0.061892305, 0.08273131, -0.057087146, 0.06321816, -0.022828523, 0.042500563, -0.061545078, -0.013805398, 0.013295244, 0.005567227, -0.02500446, 0.06480133, 0.017121939, 0.0041864393, -0.03407829, 0.005744385, 0.013278859, 0.01309376, 0.03611123, 0.013138621, 0.0767335, -0.091441445, 0.026947467, -0.03049608, -0.046084248, -0.010175954, 0.010745501, -0.065288834, -0.0031180566, 0.028492467, -0.019463344, -0.045926116, 0.12682943, 0.036077328, -0.034073345, 0.046335425, -0.025055157, 0.018468179, 0.029200206, -0.05129724, -0.02895431, -0.0047287536, -0.037903827, -0.04242279, 0.009934777, -0.042567655, 0.030453714, 0.0041671814, 0.023676127, -0.048356447, 0.041031606, -0.008709751, -0.0739986, 0.031047896, 0.0032054312, 0.018810512, 0.01331991, -0.019914642, -0.0017626489, 0.015516496, 0.03188787, 0.0556063, -0.103440605, 0.0155464085, -0.057974588, -0.028686028, -0.051167578, 0.031825487, -0.00094788626, 0.055520117, -0.0068196836, -0.0736238, 0.03233852, -0.004159992, -0.035768937, -0.05723405, 0.054371677, -0.03986586, 0.019525642, -0.021677138, -0.013465727, 0.020139918, -0.015714264, -0.08679533, -0.04706096, -0.0029155915, -0.005051635, 0.044094436, 0.064960666, 0.11354782, -0.04343859, 0.04379051, -0.0905515, -0.038583655, 0.0060408353, -8.3859515e-05, -0.038954627, -0.060813375, -0.020262798, -0.012670595, -0.09723679, 0.009032348, 0.019038936, -0.032847267, 0.12474604, 0.027960898, 0.0027033163, -0.01687406, -0.04469285, 0.0076186145, -0.051311642, -0.029129064, 0.13313842, 0.08129788, 0.018804202, 0.0048119347, 0.029050466, 0.072572, 0.05273144, -0.05050004, 0.01774072, -0.080365635, 0.0024250585, -0.078925155, 0.088551186, 0.05225726, -0.047426336, -0.037812416, 0.017141297, -0.03906982, -0.04528445, -0.050754435, 0.04567296, 0.04272724, -0.0032450987, 0.11458594, -0.059754744, 0.06322224, -0.0062131733, -0.017294472, 0.050152067, -0.014249819, 0.008708211, -0.012783251, -0.0518503, -0.04929735, -0.002025693, -0.0041966876, -0.019150835, 0.00023505851, 0.08765513, 0.061975956, -0.10060264, 0.012276831, -0.1671211, 0.02997711, -0.09826296, 0.065154344, 0.04787693, 0.073463365, -0.021672558, 0.025656417, -0.013726637, 0.024533598, -0.0035763683, -0.03919397, 0.042102527, 0.026779177, 0.10780056, -0.036024544, -0.0096003665, 0.0026113072, 0.04107041, -0.077430576, 0.072442435, 0.056080334, 0.0062524565, -0.0004173271, 0.029267306, 0.022927174, 0.046391256, 0.013104964, 0.014547043, -0.02252918, 0.0059830034, 0.02937783, -0.005936549, -0.022222444, -0.033141654, 0.009006692, -0.016843153, 0.016348178, -0.012547719, 0.033095956, -0.015027187, -0.003869332, 0.00088361604, -0.043862663, -0.010242707, -0.039172553, 0.042134218, 0.004600097, 0.057940252, 0.042619172, -0.04100859, 0.0064379377, -0.021401454, 0.0044603255, 0.01579934, 0.055664707, 0.04707056, -0.014192689, 0.035907675, -0.061549656, -0.0708952, -0.0046800375, -0.022483552, -0.033159133, 0.009280219, -0.0108448155, -0.025613569, 0.004659744, 0.05929021, -0.033059645, -0.041527584, 0.005811671, 0.052158568, 0.040263277, -0.03210675, -0.0037444609, 0.00987261, -0.05017621, 0.02776468, 0.06591357, 0.018080534, 0.003616608, 0.06755483, -0.063367724, -0.006854936, -0.023340836]\n"
          ]
        }
      ],
      "source": [
        "# Many embeddings use the average of all vectors to represent unknown words.\n",
        "# This is because having a real vector in the embedding space is considered better than a zero-vector\n",
        "pad_vector = list(np.zeros(n_dim,dtype=int))\n",
        "unk_vector = list(np.mean(w2v_emb1.vectors, axis=0))\n",
        "print(pad_vector)\n",
        "print(unk_vector)"
      ]
    },
    {
      "cell_type": "code",
      "execution_count": 314,
      "id": "78ecaabf",
      "metadata": {
        "id": "78ecaabf",
        "outputId": "cdba6c41-f501-4470-ba7b-fee9b8284b38",
        "colab": {
          "base_uri": "https://localhost:8080/"
        }
      },
      "outputs": [
        {
          "output_type": "stream",
          "name": "stdout",
          "text": [
            "(74999, 1024)\n"
          ]
        }
      ],
      "source": [
        "W = get_W(w2v_emb1, word_dict)\n",
        "print(W.shape)"
      ]
    },
    {
      "cell_type": "markdown",
      "id": "9ac2c0b2",
      "metadata": {
        "id": "9ac2c0b2"
      },
      "source": [
        "Turning categories string into numerical categories and generate the mapping we can use for the testing dataframe."
      ]
    },
    {
      "cell_type": "code",
      "execution_count": 169,
      "id": "e07f9394",
      "metadata": {
        "id": "e07f9394"
      },
      "outputs": [],
      "source": [
        "def get_quartile_statistics(sentences):\n",
        "    len_vector = []\n",
        "    for sentence in sentences:\n",
        "        len_vector.append(len(sentence))\n",
        "    \n",
        "    median_value = np.median(len_vector)\n",
        "    mean_value = np.mean(len_vector)\n",
        "    \n",
        "    max_value = np.max(len_vector)\n",
        "    min_value = np.min(len_vector)\n",
        "    return min_value, int(mean_value), int(median_value), max_value\n",
        "    \n",
        "def encode_sentences(ltext, word_dictionary, max_length=100, pad_strategy='pre'):\n",
        "    result = []\n",
        "    for text in ltext:\n",
        "        result.append(encode_sentence(text, word_dictionary, max_length, pad_strategy))\n",
        "    return result\n",
        "    \n",
        "def encode_sentence(text, word_dictionary, max_length=100, pad_strategy='pre'):\n",
        "    result = []\n",
        "    padding= []\n",
        "    \n",
        "    words = text\n",
        "    wlength = len(words)\n",
        "    \n",
        "    if wlength<=max_length:\n",
        "        padding = list(np.zeros(max_length-wlength,dtype=int))\n",
        "        if pad_strategy == 'pre':\n",
        "            result.extend(padding)\n",
        "    else:\n",
        "        if pad_strategy == 'pre':\n",
        "            words = words[0:max_length]\n",
        "        else:\n",
        "            words = words[-max_length:]\n",
        "    \n",
        "    for word in words:\n",
        "        try:\n",
        "            result.append(word_dictionary[word])\n",
        "        except KeyError:\n",
        "            result.append(word_dictionary['_UNK_'])\n",
        "    if pad_strategy == 'post':\n",
        "        result.extend(padding)\n",
        "        \n",
        "    return result\n",
        "\n",
        "def disp_encoded_sentence(ecodes, word_dictionary):\n",
        "    result = []\n",
        "    for val in ecodes:\n",
        "        result.append(word_decoder[val])\n",
        "    return result\n"
      ]
    },
    {
      "cell_type": "code",
      "execution_count": 315,
      "id": "c6968ec8",
      "metadata": {
        "id": "c6968ec8",
        "outputId": "6876e7b2-a1f9-45a8-fe19-4411887d5f8c",
        "colab": {
          "base_uri": "https://localhost:8080/"
        }
      },
      "outputs": [
        {
          "output_type": "stream",
          "name": "stdout",
          "text": [
            "4 - 9/9 - 34\n"
          ]
        }
      ],
      "source": [
        "# Understanding the input size\n",
        "# Generate a sample to avoid processing the entire dataset\n",
        "sample = random.sample(corpus, 1000)\n",
        "len_min, len_avg, len_med, len_max = get_quartile_statistics(corpus)\n",
        "print('%s - %s/%s - %s' % (len_min, len_avg, len_med, len_max))\n"
      ]
    },
    {
      "cell_type": "code",
      "execution_count": 218,
      "id": "a944a2eb",
      "metadata": {
        "id": "a944a2eb",
        "outputId": "58e82b2a-4852-4778-ba02-a638bff64609",
        "colab": {
          "base_uri": "https://localhost:8080/"
        }
      },
      "outputs": [
        {
          "output_type": "execute_result",
          "data": {
            "text/plain": [
              "['what',\n",
              " 'causes',\n",
              " 'prostate',\n",
              " 'enlargement',\n",
              " ':',\n",
              " 'benign',\n",
              " 'prostatic',\n",
              " 'hyperplasia',\n",
              " '?']"
            ]
          },
          "metadata": {},
          "execution_count": 218
        }
      ],
      "source": [
        "corpus[3]"
      ]
    },
    {
      "cell_type": "code",
      "execution_count": 316,
      "id": "3a193cbf",
      "metadata": {
        "id": "3a193cbf",
        "outputId": "cda7261f-b516-48e6-8874-f685fe1d4222",
        "colab": {
          "base_uri": "https://localhost:8080/"
        }
      },
      "outputs": [
        {
          "output_type": "stream",
          "name": "stdout",
          "text": [
            "Original: ['what', 'causes', 'prostate', 'enlargement', ':', 'benign', 'prostatic', 'hyperplasia', '?']\n",
            "Length: 20\n",
            "\n",
            "Encoded: [5722, 2, 1105, 4539, 2, 1421, 3362, 2651, 2, 0, 0, 0, 0, 0, 0, 0, 0, 0, 0, 0]\n",
            "\n",
            "Reverse Encoding: ['what', '_UNK_', 'prostate', 'enlargement', '_UNK_', 'benign', 'prostatic', 'hyperplasia', '_UNK_', '_PAD_', '_PAD_', '_PAD_', '_PAD_', '_PAD_', '_PAD_', '_PAD_', '_PAD_', '_PAD_', '_PAD_', '_PAD_']\n"
          ]
        }
      ],
      "source": [
        "max_request_length = 20\n",
        "pad_strategy = trunc_strategy = 'post'\n",
        "request = corpus[3]\n",
        "prequest = encode_sentence(request, word_dict, max_request_length, pad_strategy)\n",
        "\n",
        "print('Original:', request)\n",
        "print('Length:', len(prequest))\n",
        "print()\n",
        "print('Encoded:', prequest)\n",
        "print()\n",
        "print('Reverse Encoding:', disp_encoded_sentence(prequest, word_dict))"
      ]
    },
    {
      "cell_type": "code",
      "execution_count": 317,
      "id": "7cd143a3",
      "metadata": {
        "id": "7cd143a3"
      },
      "outputs": [],
      "source": [
        "padded_requests = encode_sentences(corpus, word_dict, max_request_length, pad_strategy)"
      ]
    },
    {
      "cell_type": "markdown",
      "id": "b7b75250",
      "metadata": {
        "id": "b7b75250"
      },
      "source": [
        "## Generating Training & Validation datasets"
      ]
    },
    {
      "cell_type": "code",
      "execution_count": 318,
      "id": "7aba4568",
      "metadata": {
        "id": "7aba4568"
      },
      "outputs": [],
      "source": [
        "padded_df = pd.DataFrame()\n",
        "padded_df['requests'] = corpus\n",
        "padded_df['encoded'] = padded_requests\n",
        "padded_df['label'] = train['label'].tolist()\n",
        "n_labels = len(set(train['label'].tolist()))"
      ]
    },
    {
      "cell_type": "markdown",
      "id": "4497a677",
      "metadata": {
        "id": "4497a677"
      },
      "source": [
        "## Generate one-hot encoding of the categories\n",
        "Generating one-hot encding of the categories will match the output for the softmax output layer"
      ]
    },
    {
      "cell_type": "code",
      "execution_count": 319,
      "id": "8484f466",
      "metadata": {
        "id": "8484f466"
      },
      "outputs": [],
      "source": [
        "x_train = np.array(padded_df['encoded'].tolist())\n",
        "y_train = np.array(to_categorical(padded_df['label'].tolist()))"
      ]
    },
    {
      "cell_type": "code",
      "execution_count": 223,
      "id": "f321b126",
      "metadata": {
        "id": "f321b126",
        "outputId": "8c44be67-519e-4151-c614-9b26d16a3514",
        "colab": {
          "base_uri": "https://localhost:8080/"
        }
      },
      "outputs": [
        {
          "output_type": "stream",
          "name": "stdout",
          "text": [
            "<class 'numpy.ndarray'>\n",
            "<class 'numpy.ndarray'>\n",
            "(12312, 20)\n",
            "(12312, 12)\n",
            "(74999, 1024)\n"
          ]
        }
      ],
      "source": [
        "print(type(x_train))\n",
        "print(type(y_train))\n",
        "print(x_train.shape)\n",
        "print(y_train.shape)\n",
        "print(W.shape)"
      ]
    },
    {
      "cell_type": "markdown",
      "id": "5f2e6ac8",
      "metadata": {
        "id": "5f2e6ac8"
      },
      "source": [
        "### Create Testing Dataset"
      ]
    },
    {
      "cell_type": "code",
      "execution_count": 320,
      "id": "2e11636b",
      "metadata": {
        "id": "2e11636b"
      },
      "outputs": [],
      "source": [
        "padded_requests = encode_sentences(corpus_val, word_dict, max_request_length, pad_strategy)\n",
        "padded_test_df = pd.DataFrame()\n",
        "padded_test_df['requests'] = corpus_val\n",
        "padded_test_df['encoded'] = padded_requests\n",
        "padded_test_df['label'] = test['label'].tolist()\n",
        "\n",
        "x_test = np.array(padded_test_df['encoded'].tolist())\n",
        "y_test = np.array(to_categorical(padded_test_df['label'].tolist()))"
      ]
    },
    {
      "cell_type": "code",
      "execution_count": 225,
      "id": "9b96a94a",
      "metadata": {
        "id": "9b96a94a",
        "outputId": "6a8b79f9-22f1-4d6b-e77b-8d2a288ec076",
        "colab": {
          "base_uri": "https://localhost:8080/"
        }
      },
      "outputs": [
        {
          "output_type": "stream",
          "name": "stdout",
          "text": [
            "<class 'numpy.ndarray'>\n",
            "<class 'numpy.ndarray'>\n",
            "(3079, 20)\n",
            "(3079, 12)\n"
          ]
        }
      ],
      "source": [
        "print(type(x_test))\n",
        "print(type(y_test))\n",
        "print(x_test.shape)\n",
        "print(y_test.shape)"
      ]
    },
    {
      "cell_type": "markdown",
      "id": "ca7b9fae",
      "metadata": {
        "id": "ca7b9fae"
      },
      "source": [
        "# Architecting the DNN\n"
      ]
    },
    {
      "cell_type": "markdown",
      "id": "976da7b6",
      "metadata": {
        "id": "976da7b6"
      },
      "source": [
        "## Running some initial test\n",
        "Let's have an ideal on how the DNN learns"
      ]
    },
    {
      "cell_type": "code",
      "execution_count": 330,
      "id": "6cc524bc",
      "metadata": {
        "id": "6cc524bc"
      },
      "outputs": [],
      "source": [
        "epochs = 15\n",
        "batch_size = 128\n",
        "n_dense = 1024\n",
        "dropout = 0.5\n",
        "\n",
        "dnn = Sequential()\n",
        "dnn.add(Embedding(vocabulary_size, n_dim, weights=[W], input_length=max_request_length, trainable=False))\n",
        "dnn.add(Flatten())\n",
        "dnn.add(Dense(n_dense, activation='relu'))\n",
        "dnn.add(Dropout(dropout))\n",
        "dnn.add(Dense(n_labels, activation='softmax'))"
      ]
    },
    {
      "cell_type": "code",
      "execution_count": 331,
      "id": "302b13d0",
      "metadata": {
        "id": "302b13d0",
        "colab": {
          "base_uri": "https://localhost:8080/"
        },
        "outputId": "27c5b6ed-93fc-4188-8873-10782c7d54ea"
      },
      "outputs": [
        {
          "output_type": "stream",
          "name": "stdout",
          "text": [
            "Epoch 1/15\n",
            "97/97 [==============================] - 46s 461ms/step - loss: 0.8563 - accuracy: 0.7092 - val_loss: 0.6618 - val_accuracy: 0.7590\n",
            "Epoch 2/15\n",
            "97/97 [==============================] - 44s 458ms/step - loss: 0.5105 - accuracy: 0.8201 - val_loss: 0.5795 - val_accuracy: 0.8042\n",
            "Epoch 3/15\n",
            "97/97 [==============================] - 45s 459ms/step - loss: 0.4296 - accuracy: 0.8474 - val_loss: 0.5319 - val_accuracy: 0.8282\n",
            "Epoch 4/15\n",
            "97/97 [==============================] - 44s 457ms/step - loss: 0.3821 - accuracy: 0.8633 - val_loss: 0.5807 - val_accuracy: 0.8071\n",
            "Epoch 5/15\n",
            "97/97 [==============================] - 44s 455ms/step - loss: 0.3552 - accuracy: 0.8742 - val_loss: 0.5119 - val_accuracy: 0.8243\n",
            "Epoch 6/15\n",
            "97/97 [==============================] - 44s 458ms/step - loss: 0.3326 - accuracy: 0.8808 - val_loss: 0.4886 - val_accuracy: 0.8233\n",
            "Epoch 7/15\n",
            "97/97 [==============================] - 44s 457ms/step - loss: 0.3151 - accuracy: 0.8882 - val_loss: 0.5081 - val_accuracy: 0.8305\n",
            "Epoch 8/15\n",
            "97/97 [==============================] - 44s 457ms/step - loss: 0.3078 - accuracy: 0.8888 - val_loss: 0.5365 - val_accuracy: 0.8282\n",
            "Epoch 9/15\n",
            "97/97 [==============================] - 45s 469ms/step - loss: 0.2923 - accuracy: 0.8979 - val_loss: 0.4883 - val_accuracy: 0.8386\n",
            "Epoch 10/15\n",
            "97/97 [==============================] - 45s 460ms/step - loss: 0.2816 - accuracy: 0.8977 - val_loss: 0.5432 - val_accuracy: 0.8279\n",
            "Epoch 11/15\n",
            "97/97 [==============================] - 44s 459ms/step - loss: 0.2822 - accuracy: 0.9010 - val_loss: 0.4798 - val_accuracy: 0.8506\n",
            "Epoch 12/15\n",
            "97/97 [==============================] - 45s 461ms/step - loss: 0.2779 - accuracy: 0.9014 - val_loss: 0.5812 - val_accuracy: 0.8223\n",
            "Epoch 13/15\n",
            "97/97 [==============================] - 48s 493ms/step - loss: 0.2667 - accuracy: 0.9039 - val_loss: 0.5006 - val_accuracy: 0.8373\n",
            "Epoch 14/15\n",
            "97/97 [==============================] - 46s 467ms/step - loss: 0.2668 - accuracy: 0.9022 - val_loss: 0.5868 - val_accuracy: 0.8402\n",
            "Epoch 15/15\n",
            "97/97 [==============================] - 44s 457ms/step - loss: 0.2712 - accuracy: 0.9037 - val_loss: 0.4734 - val_accuracy: 0.8444\n"
          ]
        }
      ],
      "source": [
        "dnn.compile(optimizer='nadam', loss='categorical_crossentropy', metrics=['accuracy'])\n",
        "history = dnn.fit(x_train, y_train, batch_size=batch_size, epochs=epochs, verbose=1, validation_data=(x_test, y_test))"
      ]
    },
    {
      "cell_type": "markdown",
      "id": "cd6d8bbc",
      "metadata": {
        "id": "cd6d8bbc"
      },
      "source": [
        "It seems the DNN is learning quite well and achieves a *val_loss* minimum at 0.8376 (in our execution) with a *val_accuracy* of 0.75.\n",
        "\n",
        "## Run with Checkpoints to Save the Best Model\n",
        "Let's run the same, but with checkpoints so we can retrieve the best model later."
      ]
    },
    {
      "cell_type": "code",
      "execution_count": 321,
      "id": "a6da4e6d",
      "metadata": {
        "id": "a6da4e6d"
      },
      "outputs": [],
      "source": [
        "dnn = Sequential()\n",
        "dnn.add(Embedding(vocabulary_size, n_dim, embeddings_initializer=\"uniform\", \n",
        "                  weights=[W], input_length=max_request_length, trainable=False))\n",
        "dnn.add(Flatten())\n",
        "dnn.add(Dense(n_dense, activation='relu'))\n",
        "dnn.add(Dropout(dropout))\n",
        "dnn.add(Dense(n_labels, activation='softmax'))\n",
        "\n",
        "dnn.compile(optimizer='nadam', loss='categorical_crossentropy', metrics=['accuracy'])\n",
        "model_checkpoint = ModelCheckpoint(filepath=check_dir+\"/weights.{epoch:02d}.hdf5\")"
      ]
    },
    {
      "cell_type": "code",
      "execution_count": 322,
      "id": "8ef30562",
      "metadata": {
        "id": "8ef30562",
        "outputId": "2cfe35ad-286d-4247-ba4e-deffd1853084",
        "colab": {
          "base_uri": "https://localhost:8080/"
        }
      },
      "outputs": [
        {
          "output_type": "stream",
          "name": "stdout",
          "text": [
            "Model: \"sequential_26\"\n",
            "_________________________________________________________________\n",
            " Layer (type)                Output Shape              Param #   \n",
            "=================================================================\n",
            " embedding_26 (Embedding)    (None, 20, 1024)          76798976  \n",
            "                                                                 \n",
            " flatten_26 (Flatten)        (None, 20480)             0         \n",
            "                                                                 \n",
            " dense_52 (Dense)            (None, 1024)              20972544  \n",
            "                                                                 \n",
            " dropout_33 (Dropout)        (None, 1024)              0         \n",
            "                                                                 \n",
            " dense_53 (Dense)            (None, 12)                12300     \n",
            "                                                                 \n",
            "=================================================================\n",
            "Total params: 97,783,820\n",
            "Trainable params: 20,984,844\n",
            "Non-trainable params: 76,798,976\n",
            "_________________________________________________________________\n"
          ]
        }
      ],
      "source": [
        "dnn.summary()"
      ]
    },
    {
      "cell_type": "code",
      "execution_count": 205,
      "id": "80b45ae9",
      "metadata": {
        "id": "80b45ae9",
        "outputId": "6fdcb9f3-83d9-4f66-fe0e-46b54eb7c936",
        "colab": {
          "base_uri": "https://localhost:8080/"
        }
      },
      "outputs": [
        {
          "output_type": "stream",
          "name": "stdout",
          "text": [
            "Embeddings:  (1024, 74999, 76798976)\n",
            "Flatten: (20, 1024, 20480)\n",
            "Dense: (1024, 20972544)\n",
            "Output: 1025\n"
          ]
        }
      ],
      "source": [
        "print('Embeddings: ',(n_dim, vocabulary_size, n_dim*vocabulary_size))\n",
        "print('Flatten:', (max_request_length, n_dim, n_dim*max_request_length))\n",
        "print('Dense:',(n_dense, n_dim*max_request_length*n_dense+n_dense))\n",
        "print('Output:',(n_dense+1))"
      ]
    },
    {
      "cell_type": "code",
      "execution_count": 323,
      "id": "c8ea9c85",
      "metadata": {
        "id": "c8ea9c85",
        "outputId": "66c007e3-2a6a-4999-f7a3-a115f0e2536f",
        "colab": {
          "base_uri": "https://localhost:8080/"
        }
      },
      "outputs": [
        {
          "output_type": "stream",
          "name": "stdout",
          "text": [
            "Epoch 1/15\n",
            "193/193 [==============================] - 72s 368ms/step - loss: 0.8151 - accuracy: 0.7253 - val_loss: 0.6119 - val_accuracy: 0.7749\n",
            "Epoch 2/15\n",
            "193/193 [==============================] - 76s 391ms/step - loss: 0.5242 - accuracy: 0.8144 - val_loss: 0.5448 - val_accuracy: 0.7983\n",
            "Epoch 3/15\n",
            "193/193 [==============================] - 71s 370ms/step - loss: 0.4350 - accuracy: 0.8451 - val_loss: 0.5088 - val_accuracy: 0.8146\n",
            "Epoch 4/15\n",
            "193/193 [==============================] - 71s 368ms/step - loss: 0.3983 - accuracy: 0.8587 - val_loss: 0.4876 - val_accuracy: 0.8269\n",
            "Epoch 5/15\n",
            "193/193 [==============================] - 72s 375ms/step - loss: 0.3653 - accuracy: 0.8686 - val_loss: 0.4675 - val_accuracy: 0.8357\n",
            "Epoch 6/15\n",
            "193/193 [==============================] - 71s 370ms/step - loss: 0.3405 - accuracy: 0.8789 - val_loss: 0.4758 - val_accuracy: 0.8298\n",
            "Epoch 7/15\n",
            "193/193 [==============================] - 71s 369ms/step - loss: 0.3277 - accuracy: 0.8828 - val_loss: 0.4601 - val_accuracy: 0.8451\n",
            "Epoch 8/15\n",
            "193/193 [==============================] - 76s 392ms/step - loss: 0.3217 - accuracy: 0.8857 - val_loss: 0.5000 - val_accuracy: 0.8409\n",
            "Epoch 9/15\n",
            "193/193 [==============================] - 78s 402ms/step - loss: 0.3094 - accuracy: 0.8899 - val_loss: 0.4788 - val_accuracy: 0.8370\n",
            "Epoch 10/15\n",
            "193/193 [==============================] - 78s 403ms/step - loss: 0.2996 - accuracy: 0.8927 - val_loss: 0.4737 - val_accuracy: 0.8461\n",
            "Epoch 11/15\n",
            "193/193 [==============================] - 72s 375ms/step - loss: 0.3008 - accuracy: 0.8954 - val_loss: 0.4833 - val_accuracy: 0.8422\n",
            "Epoch 12/15\n",
            "193/193 [==============================] - 75s 389ms/step - loss: 0.2887 - accuracy: 0.8984 - val_loss: 0.4741 - val_accuracy: 0.8548\n",
            "Epoch 13/15\n",
            "193/193 [==============================] - 72s 373ms/step - loss: 0.2797 - accuracy: 0.8986 - val_loss: 0.4552 - val_accuracy: 0.8538\n",
            "Epoch 14/15\n",
            "193/193 [==============================] - 75s 390ms/step - loss: 0.2797 - accuracy: 0.9016 - val_loss: 0.4734 - val_accuracy: 0.8548\n",
            "Epoch 15/15\n",
            "193/193 [==============================] - 73s 378ms/step - loss: 0.2763 - accuracy: 0.9019 - val_loss: 0.4842 - val_accuracy: 0.8415\n"
          ]
        }
      ],
      "source": [
        "history = dnn.fit(x_train, y_train, batch_size=batch_size, epochs=epochs, verbose=1, \n",
        "          validation_data=(x_test, y_test), callbacks=[model_checkpoint])\n"
      ]
    },
    {
      "cell_type": "markdown",
      "id": "09c9f035",
      "metadata": {
        "id": "09c9f035"
      },
      "source": [
        "In my case (which can be different at different runs) the best model is the 9th ***weights.09.hdf5***. This can be reloaded at any time."
      ]
    },
    {
      "cell_type": "code",
      "execution_count": 324,
      "id": "e5ec729b",
      "metadata": {
        "id": "e5ec729b",
        "outputId": "6d20ccd2-974a-495b-c68b-38b7ae63726a",
        "colab": {
          "base_uri": "https://localhost:8080/"
        }
      },
      "outputs": [
        {
          "output_type": "execute_result",
          "data": {
            "text/plain": [
              "dict_keys(['loss', 'accuracy', 'val_loss', 'val_accuracy'])"
            ]
          },
          "metadata": {},
          "execution_count": 324
        }
      ],
      "source": [
        "history.history.keys()"
      ]
    },
    {
      "cell_type": "code",
      "execution_count": 325,
      "id": "f9eb68ac",
      "metadata": {
        "id": "f9eb68ac",
        "outputId": "536c42d6-b634-4112-e2f0-faa505705fbc",
        "colab": {
          "base_uri": "https://localhost:8080/",
          "height": 281
        }
      },
      "outputs": [
        {
          "output_type": "display_data",
          "data": {
            "text/plain": [
              "<Figure size 432x288 with 2 Axes>"
            ],
            "image/png": "[encoded data removed]"
          },
          "metadata": {
            "needs_background": "light"
          }
        }
      ],
      "source": [
        "# plot loss during training\n",
        "plt.subplot(211)\n",
        "plt.title('Loss')\n",
        "plt.plot(history.history['loss'], label='train')\n",
        "plt.plot(history.history['val_loss'], label='test')\n",
        "plt.legend()\n",
        "# plot accuracy during training\n",
        "plt.subplot(212)\n",
        "plt.title('Accuracy')\n",
        "plt.plot(history.history['accuracy'], label='train')\n",
        "plt.plot(history.history['val_accuracy'], label='test')\n",
        "plt.legend()\n",
        "plt.show()"
      ]
    },
    {
      "cell_type": "markdown",
      "id": "422fd30d",
      "metadata": {
        "id": "422fd30d"
      },
      "source": [
        "Quite good learning graphs."
      ]
    },
    {
      "cell_type": "markdown",
      "id": "5269ed4f",
      "metadata": {
        "id": "5269ed4f"
      },
      "source": [
        "# Evaluating on the Testing set\n",
        "We need to validate the performance on the testing set."
      ]
    },
    {
      "cell_type": "code",
      "execution_count": 185,
      "id": "41cde2be",
      "metadata": {
        "id": "41cde2be"
      },
      "outputs": [],
      "source": [
        "from keras import backend as K\n",
        "\n",
        "def recall_m(y_true, y_pred):\n",
        "    true_positives = K.sum(K.round(K.clip(y_true * y_pred, 0, 1)))\n",
        "    possible_positives = K.sum(K.round(K.clip(y_true, 0, 1)))\n",
        "    recall = true_positives / (possible_positives + K.epsilon())\n",
        "    return recall\n",
        "\n",
        "def precision_m(y_true, y_pred):\n",
        "    true_positives = K.sum(K.round(K.clip(y_true * y_pred, 0, 1)))\n",
        "    predicted_positives = K.sum(K.round(K.clip(y_pred, 0, 1)))\n",
        "    precision = true_positives / (predicted_positives + K.epsilon())\n",
        "    return precision\n",
        "\n",
        "def f1_m(y_true, y_pred):\n",
        "    precision = precision_m(y_true, y_pred)\n",
        "    recall = recall_m(y_true, y_pred)\n",
        "    return 2*((precision*recall)/(precision+recall+K.epsilon()))"
      ]
    },
    {
      "cell_type": "code",
      "execution_count": 326,
      "id": "74d81787",
      "metadata": {
        "id": "74d81787"
      },
      "outputs": [],
      "source": [
        "# Load the model from the checkpoint\n",
        "best_model = Sequential()\n",
        "best_model.add(Embedding(vocabulary_size, n_dim, embeddings_initializer=\"uniform\", \n",
        "                  weights=[W], input_length=max_request_length, trainable=False))\n",
        "best_model.add(Flatten())\n",
        "best_model.add(Dense(n_dense, activation='relu'))\n",
        "best_model.add(Dropout(dropout))\n",
        "best_model.add(Dense(n_labels, activation='softmax'))\n",
        "\n",
        "best_model.compile(optimizer='nadam', loss='categorical_crossentropy', metrics=['acc',f1_m,precision_m, recall_m])\n",
        "best_model_path = './models/checkpoints/weights.13.hdf5'\n",
        "best_model.load_weights(best_model_path)"
      ]
    },
    {
      "cell_type": "code",
      "execution_count": 327,
      "id": "1ecb9311",
      "metadata": {
        "id": "1ecb9311",
        "outputId": "294925a1-908b-4eb8-b213-a3e78468dabd",
        "colab": {
          "base_uri": "https://localhost:8080/"
        }
      },
      "outputs": [
        {
          "output_type": "stream",
          "name": "stdout",
          "text": [
            "Evaluate model on test data\n",
            "loss:0.45519697666168213, accuracy: 0.8538486361503601, f1:0.8538663387298584, precision:0.8934028148651123, recall:0.8186211585998535\n"
          ]
        }
      ],
      "source": [
        "print(\"Evaluate model on test data\")\n",
        "# evaluate the model\n",
        "loss, accuracy, f1_score, precision, recall = best_model.evaluate(x_test, y_test, verbose=0)\n",
        "print(\"loss:%s, accuracy: %s, f1:%s, precision:%s, recall:%s\" % (loss,accuracy,f1_score,precision,recall))"
      ]
    },
    {
      "cell_type": "code",
      "execution_count": 55,
      "id": "f1796c8c",
      "metadata": {
        "id": "f1796c8c"
      },
      "outputs": [],
      "source": [
        "results = best_model.predict(x_test)\n",
        "predictions = []\n",
        "labels = []\n",
        "\n",
        "for r in results:\n",
        "    olist = list(r)\n",
        "    max_value = max(olist)\n",
        "    max_index = olist.index(max_value)\n",
        "    predictions.append(max_index)\n",
        "\n",
        "for r in y_test:\n",
        "    olist = list(r)\n",
        "    max_value = max(olist)\n",
        "    max_index = olist.index(max_value)\n",
        "    labels.append(max_index)\n",
        "    "
      ]
    },
    {
      "cell_type": "code",
      "execution_count": 56,
      "id": "565e873f",
      "metadata": {
        "id": "565e873f"
      },
      "outputs": [],
      "source": [
        "label_count = test.groupby('label').size().tolist()\n",
        "correct = {}\n",
        "for i in range(0,n_labels):\n",
        "    ccount = 0\n",
        "    for j in range(0, len(predictions)):\n",
        "        if predictions[j] == i and labels[j] == i: \n",
        "            ccount += 1\n",
        "    correct[i] = ccount/label_count[i]\n"
      ]
    },
    {
      "cell_type": "code",
      "execution_count": 57,
      "id": "81df3e5d",
      "metadata": {
        "id": "81df3e5d",
        "outputId": "ca0ec2f1-3785-47b0-b617-7bfffd029985",
        "colab": {
          "base_uri": "https://localhost:8080/"
        }
      },
      "outputs": [
        {
          "output_type": "stream",
          "name": "stdout",
          "text": [
            "✓ 0 [Size:  416] [Accuracy:  0.78]\n",
            "✓ 1 [Size:  971] [Accuracy:  1.00]\n",
            "✓ 2 [Size:  142] [Accuracy:  0.85]\n",
            "✓ 3 [Size:  122] [Accuracy:  0.85]\n",
            "X 4 [Size:  210] [Accuracy:  0.36]\n",
            "✓ 5 [Size:  533] [Accuracy:  0.93]\n",
            "X 6 [Size:   88] [Accuracy:  0.36]\n",
            "X 7 [Size:  165] [Accuracy:  0.62]\n",
            "X 8 [Size:  226] [Accuracy:  0.65]\n",
            "X 9 [Size:   52] [Accuracy:  0.40]\n",
            "X 10 [Size:  104] [Accuracy:  0.55]\n",
            "✓ 11 [Size:   50] [Accuracy:  0.80]\n",
            "\n",
            "Performing Categories:\n",
            "   0\n",
            "   1\n",
            "   2\n",
            "   3\n",
            "   5\n",
            "   11\n"
          ]
        }
      ],
      "source": [
        "threshold = 0.7\n",
        "good_cat = []\n",
        "\n",
        "for i in range(n_labels):\n",
        "    acc = correct[i]\n",
        "    if acc<threshold:\n",
        "        print('X %s [Size: %s] [Accuracy: %5.2f]' % (i, str(label_count[i]).rjust(4,' '), acc))\n",
        "    else:\n",
        "        print('✓ %s [Size: %s] [Accuracy: %5.2f]' % (i, str(label_count[i]).rjust(4,' '), acc))\n",
        "        good_cat.append(i)\n",
        "\n",
        "print()    \n",
        "print('Performing Categories:')\n",
        "for c in good_cat:\n",
        "    print('   '+str(c))"
      ]
    },
    {
      "cell_type": "markdown",
      "id": "69ac0c61",
      "metadata": {
        "id": "69ac0c61"
      },
      "source": [
        "## Saving the Model"
      ]
    },
    {
      "cell_type": "code",
      "execution_count": null,
      "id": "c4e86233",
      "metadata": {
        "id": "c4e86233"
      },
      "outputs": [],
      "source": [
        "best_model.save('../models/dnn.h5')"
      ]
    },
    {
      "cell_type": "markdown",
      "source": [
        "## Final Summary Table\n"
      ],
      "metadata": {
        "id": "2O_toGS09hG7"
      },
      "id": "2O_toGS09hG7"
    },
    {
      "cell_type": "markdown",
      "source": [
        "\n",
        "| Embedding Name | Accuracy | F1-Score |\n",
        "| --- | --- | --- |\n",
        "| The_Avengers_pubmed_w2v_uncased_1024_2_cbow.emb | 0.8213706017 | 0.8249465823 |\n",
        "| The_Avengers_pubmed_w2v_uncased_1024_2_skip.emb | 0.8376095891 | 0.8396823406 |\n",
        "| The_Avengers_pubmed_w2v_uncased_1024_5_cbow.emb | 0.8109775782 | 0.8171428442 |\n",
        "| The_Avengers_pubmed_w2v_uncased_1024_5_skip.emb | 0.8499512672 | 0.8530312181 |\n",
        "| The_Avengers_pubmed_w2v_uncased_1024_10_cbow.emb | 0.8145501614 | 0.8254490495 |\n",
        "| The_Avengers_pubmed_w2v_uncased_1024_10_skip.emb | 0.8447548151 | 0.8482908012 |\n",
        "| The_Avengers_pubmed_w2v_uncased_1024_20_cbow.emb | 0.8229944706 | 0.8287500739 |\n",
        "| The_Avengers_pubmed_w2v_uncased_1024_20_skip.emb | 0.8538486362 | 0.8538663387 |"
      ],
      "metadata": {
        "id": "hhIh12oxCXrV"
      },
      "id": "hhIh12oxCXrV"
    },
    {
      "cell_type": "code",
      "source": [
        ""
      ],
      "metadata": {
        "id": "Xq6nPgzn6pch"
      },
      "id": "Xq6nPgzn6pch",
      "execution_count": null,
      "outputs": []
    }
  ],
  "metadata": {
    "kernelspec": {
      "display_name": "Python 3",
      "language": "python",
      "name": "python3"
    },
    "language_info": {
      "codemirror_mode": {
        "name": "ipython",
        "version": 3
      },
      "file_extension": ".py",
      "mimetype": "text/x-python",
      "name": "python",
      "nbconvert_exporter": "python",
      "pygments_lexer": "ipython3",
      "version": "3.7.6"
    },
    "colab": {
      "name": "Assignment 3 - Medical Question Classification using DNN on PubMed Encodings.ipynb",
      "provenance": [],
      "collapsed_sections": [
        "69ac0c61"
      ],
      "include_colab_link": true
    }
  },
  "nbformat": 4,
  "nbformat_minor": 5
}