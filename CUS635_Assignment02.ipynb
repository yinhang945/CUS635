{
  "nbformat": 4,
  "nbformat_minor": 0,
  "metadata": {
    "colab": {
      "name": "CUS635_Assignment02.ipynb",
      "provenance": [],
      "authorship_tag": "ABX9TyMFFHBvmVMx1gLEme+YTpjf",
      "include_colab_link": true
    },
    "kernelspec": {
      "name": "python3",
      "display_name": "Python 3"
    },
    "language_info": {
      "name": "python"
    }
  },
  "cells": [
    {
      "cell_type": "markdown",
      "metadata": {
        "id": "view-in-github",
        "colab_type": "text"
      },
      "source": [
        "<a href=\"https://colab.research.google.com/github/yinhang945/CUS635/blob/main/CUS635_Assignment02.ipynb\" target=\"_parent\"><img src=\"https://colab.research.google.com/assets/colab-badge.svg\" alt=\"Open In Colab\"/></a>"
      ]
    },
    {
      "cell_type": "code",
      "execution_count": 36,
      "metadata": {
        "id": "SRG62u2olrJc"
      },
      "outputs": [],
      "source": [
        "import nltk\n",
        "from nltk import sent_tokenize, word_tokenize\n",
        "from nltk.corpus import stopwords\n",
        "import pandas as pd\n",
        "import gensim\n",
        "import pickle\n",
        "from gensim.models.word2vec import Word2Vec\n",
        "from sklearn.manifold import TSNE\n",
        "import warnings\n",
        "warnings.filterwarnings('ignore')"
      ]
    },
    {
      "cell_type": "code",
      "source": [
        "with open ('/content/pubmed_abstracts_assignment_2.bin', 'rb') as fp:\n",
        "    abstract_sample = pickle.load(fp)"
      ],
      "metadata": {
        "id": "_9oxwWNhsepB"
      },
      "execution_count": 37,
      "outputs": []
    },
    {
      "cell_type": "code",
      "source": [
        "nltk.download('punkt')\n",
        "nltk.download('stopwords')\n",
        "nltk.download('wordnet')"
      ],
      "metadata": {
        "colab": {
          "base_uri": "https://localhost:8080/"
        },
        "id": "4OwQUM8d3sHp",
        "outputId": "2ba4d8e3-3916-4c06-9f27-2651af32d6a3"
      },
      "execution_count": 38,
      "outputs": [
        {
          "output_type": "stream",
          "name": "stdout",
          "text": [
            "[nltk_data] Downloading package punkt to /root/nltk_data...\n",
            "[nltk_data]   Package punkt is already up-to-date!\n",
            "[nltk_data] Downloading package stopwords to /root/nltk_data...\n",
            "[nltk_data]   Package stopwords is already up-to-date!\n",
            "[nltk_data] Downloading package wordnet to /root/nltk_data...\n",
            "[nltk_data]   Package wordnet is already up-to-date!\n"
          ]
        },
        {
          "output_type": "execute_result",
          "data": {
            "text/plain": [
              "True"
            ]
          },
          "metadata": {},
          "execution_count": 38
        }
      ]
    },
    {
      "cell_type": "code",
      "source": [
        "abstract_sample[0]"
      ],
      "metadata": {
        "colab": {
          "base_uri": "https://localhost:8080/",
          "height": 70
        },
        "id": "jAePiJWK2tOO",
        "outputId": "e71db893-9354-4316-81e6-13b00d9611e9"
      },
      "execution_count": 39,
      "outputs": [
        {
          "output_type": "execute_result",
          "data": {
            "text/plain": [
              "'Intervirology. Extensively degraded RNA was isolated from virions of influenza virus which had been oxidized with sodium m-periodate. Similarly, although to a lesser extent, RNA isolated from periodate-treated ribonucleoprotein of influenza virus was also degraded. In contrast, influenza virus RNA, if first freed from other virion components, was not degraded by periodate oxidation.'"
            ],
            "application/vnd.google.colaboratory.intrinsic+json": {
              "type": "string"
            }
          },
          "metadata": {},
          "execution_count": 39
        }
      ]
    },
    {
      "cell_type": "code",
      "source": [
        "tokenized_abs_sample = []\n",
        "for sent in abstract_sample:\n",
        "  tok_sents = []\n",
        "  tokens = nltk.word_tokenize(sent)\n",
        "  for token in tokens:\n",
        "    tok_sents.append(token)\n",
        "  tokenized_abs_sample.append(tok_sents)\n",
        "tokenized_abs_sample[0:2]"
      ],
      "metadata": {
        "colab": {
          "base_uri": "https://localhost:8080/"
        },
        "id": "Yq6IRSp1zUXv",
        "outputId": "daa760d7-bc8f-4fc0-cbf4-281460005ef3"
      },
      "execution_count": 40,
      "outputs": [
        {
          "output_type": "execute_result",
          "data": {
            "text/plain": [
              "[['Intervirology',\n",
              "  '.',\n",
              "  'Extensively',\n",
              "  'degraded',\n",
              "  'RNA',\n",
              "  'was',\n",
              "  'isolated',\n",
              "  'from',\n",
              "  'virions',\n",
              "  'of',\n",
              "  'influenza',\n",
              "  'virus',\n",
              "  'which',\n",
              "  'had',\n",
              "  'been',\n",
              "  'oxidized',\n",
              "  'with',\n",
              "  'sodium',\n",
              "  'm-periodate',\n",
              "  '.',\n",
              "  'Similarly',\n",
              "  ',',\n",
              "  'although',\n",
              "  'to',\n",
              "  'a',\n",
              "  'lesser',\n",
              "  'extent',\n",
              "  ',',\n",
              "  'RNA',\n",
              "  'isolated',\n",
              "  'from',\n",
              "  'periodate-treated',\n",
              "  'ribonucleoprotein',\n",
              "  'of',\n",
              "  'influenza',\n",
              "  'virus',\n",
              "  'was',\n",
              "  'also',\n",
              "  'degraded',\n",
              "  '.',\n",
              "  'In',\n",
              "  'contrast',\n",
              "  ',',\n",
              "  'influenza',\n",
              "  'virus',\n",
              "  'RNA',\n",
              "  ',',\n",
              "  'if',\n",
              "  'first',\n",
              "  'freed',\n",
              "  'from',\n",
              "  'other',\n",
              "  'virion',\n",
              "  'components',\n",
              "  ',',\n",
              "  'was',\n",
              "  'not',\n",
              "  'degraded',\n",
              "  'by',\n",
              "  'periodate',\n",
              "  'oxidation',\n",
              "  '.'],\n",
              " ['Journal',\n",
              "  'of',\n",
              "  'general',\n",
              "  'microbiology',\n",
              "  '.',\n",
              "  'Some',\n",
              "  'mutants',\n",
              "  'and',\n",
              "  'stock',\n",
              "  'strains',\n",
              "  'of',\n",
              "  'Escherichia',\n",
              "  'coli',\n",
              "  'K12',\n",
              "  'were',\n",
              "  'sensitive',\n",
              "  'to',\n",
              "  'acriflavine',\n",
              "  'in',\n",
              "  'the',\n",
              "  'presence',\n",
              "  'of',\n",
              "  'inorganic',\n",
              "  'phosphate',\n",
              "  'but',\n",
              "  'were',\n",
              "  'resistant',\n",
              "  'to',\n",
              "  'acriflavine',\n",
              "  'in',\n",
              "  'its',\n",
              "  'absence',\n",
              "  '.',\n",
              "  'They',\n",
              "  'mutated',\n",
              "  'spontaneously',\n",
              "  'to',\n",
              "  'resistance',\n",
              "  'to',\n",
              "  'acriflavine',\n",
              "  'plus',\n",
              "  'phosphate',\n",
              "  '.',\n",
              "  'The',\n",
              "  'synergistic',\n",
              "  'effect',\n",
              "  'of',\n",
              "  'phosphate',\n",
              "  'on',\n",
              "  'acriflavine',\n",
              "  'sensitivity',\n",
              "  'was',\n",
              "  'increased',\n",
              "  'at',\n",
              "  'high',\n",
              "  'pH',\n",
              "  'values',\n",
              "  '.',\n",
              "  'Genetic',\n",
              "  'analysis',\n",
              "  'suggested',\n",
              "  'that',\n",
              "  'the',\n",
              "  'mutations',\n",
              "  'occurred',\n",
              "  'in',\n",
              "  'the',\n",
              "  'gene',\n",
              "  'acrA',\n",
              "  '.',\n",
              "  'Electron',\n",
              "  'microscopic',\n",
              "  'observation',\n",
              "  'suggested',\n",
              "  'that',\n",
              "  'the',\n",
              "  'presence',\n",
              "  'of',\n",
              "  'acriflavine',\n",
              "  'plus',\n",
              "  'phosphate',\n",
              "  'affected',\n",
              "  'the',\n",
              "  'structure',\n",
              "  'of',\n",
              "  'the',\n",
              "  'plasma',\n",
              "  'membrane',\n",
              "  'and',\n",
              "  'the',\n",
              "  'cytoplasm',\n",
              "  'under',\n",
              "  'it',\n",
              "  '.',\n",
              "  'This',\n",
              "  'structural',\n",
              "  'alteration',\n",
              "  'was',\n",
              "  'not',\n",
              "  'caused',\n",
              "  'by',\n",
              "  'acriflavine',\n",
              "  'alone',\n",
              "  '.',\n",
              "  'Acridine',\n",
              "  'orange',\n",
              "  'plus',\n",
              "  'phosphate',\n",
              "  'can',\n",
              "  'more',\n",
              "  'effectively',\n",
              "  'eliminate',\n",
              "  'the',\n",
              "  'plasmid',\n",
              "  'F8-gal+',\n",
              "  'than',\n",
              "  'acridine',\n",
              "  'orange',\n",
              "  'alone',\n",
              "  '.']]"
            ]
          },
          "metadata": {},
          "execution_count": 40
        }
      ]
    },
    {
      "cell_type": "code",
      "source": [
        "def remove_punctuation(corpus):\n",
        "    punctuations = \".,\\\"-\\\\/#!?$%\\^&\\*;:{}=\\-_'~()\"    \n",
        "    filtered_corpus = [token for token in corpus if (not token in punctuations)]\n",
        "    return filtered_corpus\n",
        "\n",
        "def apply_stopwording(corpus, min_len):\n",
        "    filtered_corpus = [token.lower() for token in corpus if (not token in stopwords.words('english') and len(token)>min_len)]\n",
        "    return filtered_corpus\n",
        "\n",
        "def apply_lemmatization(corpus):\n",
        "    lemmatizer = nltk.WordNetLemmatizer()\n",
        "    normalized_corpus = [lemmatizer.lemmatize(token) for token in corpus]\n",
        "    return normalized_corpus"
      ],
      "metadata": {
        "id": "anequFBD0laf"
      },
      "execution_count": 7,
      "outputs": []
    },
    {
      "cell_type": "code",
      "source": [
        "g_sentences=[]\n",
        "# for i in range(0,1000):\n",
        "#     g_sentences.append(apply_lemmatization(apply_stopwording(remove_punctuation(tokenized_abs_sample[i]),3)))\n",
        "for sentence in tokenized_abs_sample:\n",
        "    g_sentences.append(apply_lemmatization(apply_stopwording(remove_punctuation(sentence),3)))\n",
        "g_sentences[:2]"
      ],
      "metadata": {
        "colab": {
          "base_uri": "https://localhost:8080/"
        },
        "id": "ly-2Hhdh8IS8",
        "outputId": "394737a7-b49b-4ad0-edab-a4f1c5c0fa34"
      },
      "execution_count": 35,
      "outputs": [
        {
          "output_type": "execute_result",
          "data": {
            "text/plain": [
              "[['intervirology',\n",
              "  'extensively',\n",
              "  'degraded',\n",
              "  'isolated',\n",
              "  'virion',\n",
              "  'influenza',\n",
              "  'virus',\n",
              "  'oxidized',\n",
              "  'sodium',\n",
              "  'm-periodate',\n",
              "  'similarly',\n",
              "  'although',\n",
              "  'lesser',\n",
              "  'extent',\n",
              "  'isolated',\n",
              "  'periodate-treated',\n",
              "  'ribonucleoprotein',\n",
              "  'influenza',\n",
              "  'virus',\n",
              "  'also',\n",
              "  'degraded',\n",
              "  'contrast',\n",
              "  'influenza',\n",
              "  'virus',\n",
              "  'first',\n",
              "  'freed',\n",
              "  'virion',\n",
              "  'component',\n",
              "  'degraded',\n",
              "  'periodate',\n",
              "  'oxidation'],\n",
              " ['journal',\n",
              "  'general',\n",
              "  'microbiology',\n",
              "  'some',\n",
              "  'mutant',\n",
              "  'stock',\n",
              "  'strain',\n",
              "  'escherichia',\n",
              "  'coli',\n",
              "  'sensitive',\n",
              "  'acriflavine',\n",
              "  'presence',\n",
              "  'inorganic',\n",
              "  'phosphate',\n",
              "  'resistant',\n",
              "  'acriflavine',\n",
              "  'absence',\n",
              "  'they',\n",
              "  'mutated',\n",
              "  'spontaneously',\n",
              "  'resistance',\n",
              "  'acriflavine',\n",
              "  'plus',\n",
              "  'phosphate',\n",
              "  'synergistic',\n",
              "  'effect',\n",
              "  'phosphate',\n",
              "  'acriflavine',\n",
              "  'sensitivity',\n",
              "  'increased',\n",
              "  'high',\n",
              "  'value',\n",
              "  'genetic',\n",
              "  'analysis',\n",
              "  'suggested',\n",
              "  'mutation',\n",
              "  'occurred',\n",
              "  'gene',\n",
              "  'acra',\n",
              "  'electron',\n",
              "  'microscopic',\n",
              "  'observation',\n",
              "  'suggested',\n",
              "  'presence',\n",
              "  'acriflavine',\n",
              "  'plus',\n",
              "  'phosphate',\n",
              "  'affected',\n",
              "  'structure',\n",
              "  'plasma',\n",
              "  'membrane',\n",
              "  'cytoplasm',\n",
              "  'this',\n",
              "  'structural',\n",
              "  'alteration',\n",
              "  'caused',\n",
              "  'acriflavine',\n",
              "  'alone',\n",
              "  'acridine',\n",
              "  'orange',\n",
              "  'plus',\n",
              "  'phosphate',\n",
              "  'effectively',\n",
              "  'eliminate',\n",
              "  'plasmid',\n",
              "  'f8-gal+',\n",
              "  'acridine',\n",
              "  'orange',\n",
              "  'alone']]"
            ]
          },
          "metadata": {},
          "execution_count": 35
        }
      ]
    },
    {
      "cell_type": "code",
      "source": [
        "g_sentences[2:5]"
      ],
      "metadata": {
        "colab": {
          "base_uri": "https://localhost:8080/"
        },
        "id": "2XleE1A_x_N8",
        "outputId": "a498b971-0a77-48e3-88aa-715a3fcee006"
      },
      "execution_count": 48,
      "outputs": [
        {
          "output_type": "execute_result",
          "data": {
            "text/plain": [
              "[['journal',\n",
              "  'pharmacy',\n",
              "  'pharmacology',\n",
              "  'interaction',\n",
              "  'series',\n",
              "  'antihistamine',\n",
              "  'monolayers',\n",
              "  'l-alpha-dipalmitoyl',\n",
              "  'lecithin',\n",
              "  'examined',\n",
              "  'increase',\n",
              "  'monolayer',\n",
              "  'surface',\n",
              "  'pressure',\n",
              "  'noted',\n",
              "  'monolayers',\n",
              "  'spread',\n",
              "  'antihistamine',\n",
              "  'solution',\n",
              "  'suggesting',\n",
              "  'penetration',\n",
              "  'film',\n",
              "  'drug',\n",
              "  'molecule',\n",
              "  'high',\n",
              "  'surface',\n",
              "  'pressure',\n",
              "  'apparent',\n",
              "  'ejection',\n",
              "  'drug',\n",
              "  'molecule',\n",
              "  'film',\n",
              "  'ability',\n",
              "  'antihistamine',\n",
              "  'increase',\n",
              "  'surface',\n",
              "  'pressure',\n",
              "  'correlated',\n",
              "  'surface',\n",
              "  'activity',\n",
              "  'air-solution',\n",
              "  'interface',\n",
              "  'effect',\n",
              "  'drug',\n",
              "  'concentration',\n",
              "  'magnitude',\n",
              "  'surface',\n",
              "  'pressure',\n",
              "  'examined',\n",
              "  'diphenhydramine',\n",
              "  'hydrochloride',\n",
              "  'application',\n",
              "  'gibbs',\n",
              "  'adsorption',\n",
              "  'equation',\n",
              "  'surface',\n",
              "  'compression',\n",
              "  'indicated',\n",
              "  'approximate',\n",
              "  'area',\n",
              "  'molecule',\n",
              "  'diphenhydramine',\n",
              "  'film',\n",
              "  'good',\n",
              "  'agreement',\n",
              "  'value',\n",
              "  'previously',\n",
              "  'obtained',\n",
              "  'air-solution',\n",
              "  'interface',\n",
              "  'preliminary',\n",
              "  'measurement',\n",
              "  'showed',\n",
              "  'surface',\n",
              "  'pressure',\n",
              "  'increase',\n",
              "  'larger',\n",
              "  'presence',\n",
              "  'phosphate',\n",
              "  'buffer',\n",
              "  'clear',\n",
              "  'whether',\n",
              "  'effect',\n",
              "  'caused',\n",
              "  'buffer',\n",
              "  'component',\n",
              "  'effect'],\n",
              " ['urology',\n",
              "  'urinary',\n",
              "  'enzyme',\n",
              "  'pattern',\n",
              "  'kidney',\n",
              "  'tissue',\n",
              "  'pattern',\n",
              "  'investigated',\n",
              "  'simultaneously',\n",
              "  'urologic',\n",
              "  'patient',\n",
              "  'contrast',\n",
              "  'renal',\n",
              "  'disorder',\n",
              "  'sixteen',\n",
              "  'malignant',\n",
              "  'tumor',\n",
              "  'kidney',\n",
              "  'showed',\n",
              "  'significant',\n",
              "  'drop',\n",
              "  'gamma-gt',\n",
              "  'tumor',\n",
              "  'tissue',\n",
              "  'urine',\n",
              "  'urinary',\n",
              "  'enzymology',\n",
              "  'used',\n",
              "  'screening',\n",
              "  'test',\n",
              "  'measurement',\n",
              "  'gamma-gt',\n",
              "  'urine',\n",
              "  'however',\n",
              "  'permit',\n",
              "  'diagnosis',\n",
              "  'kidney',\n",
              "  'tumor'],\n",
              " ['archive',\n",
              "  'virology',\n",
              "  'growth',\n",
              "  'avian',\n",
              "  'infectious',\n",
              "  'bronchitis',\n",
              "  'virus',\n",
              "  'chick',\n",
              "  'kidney',\n",
              "  'cell',\n",
              "  'different',\n",
              "  'value',\n",
              "  'range',\n",
              "  '6.0-9.0',\n",
              "  'demonstrated',\n",
              "  'although',\n",
              "  'virus',\n",
              "  'released',\n",
              "  'much',\n",
              "  'faster',\n",
              "  'rate',\n",
              "  'higher',\n",
              "  'value',\n",
              "  'titre',\n",
              "  'tended',\n",
              "  'drop',\n",
              "  'quickly',\n",
              "  'acid',\n",
              "  'value',\n",
              "  'virus',\n",
              "  'released',\n",
              "  'slowly',\n",
              "  'reached',\n",
              "  'maximum',\n",
              "  'titre',\n",
              "  'similar',\n",
              "  'higher',\n",
              "  'value',\n",
              "  'showed',\n",
              "  'minimum',\n",
              "  'reduction',\n",
              "  'infectivity',\n",
              "  'hour',\n",
              "  'post',\n",
              "  'inoculation',\n",
              "  'stability',\n",
              "  'virus',\n",
              "  'tissue',\n",
              "  'culture',\n",
              "  'medium',\n",
              "  'shown',\n",
              "  'directly',\n",
              "  'related',\n",
              "  '6.0-8.0',\n",
              "  'stable',\n",
              "  'acid',\n",
              "  'value',\n",
              "  'degree',\n",
              "  'cytopathogenicity',\n",
              "  'induced',\n",
              "  'chick',\n",
              "  'kidney',\n",
              "  'cell',\n",
              "  'following',\n",
              "  'infection',\n",
              "  'directly',\n",
              "  'related',\n",
              "  'cell',\n",
              "  'incubated',\n",
              "  'occurring',\n",
              "  'earlier',\n",
              "  'extensively',\n",
              "  'cell',\n",
              "  'higher',\n",
              "  'value',\n",
              "  'cell',\n",
              "  'macromolecule',\n",
              "  'synthesis',\n",
              "  'chick',\n",
              "  'kidney',\n",
              "  'cell',\n",
              "  'inhibited',\n",
              "  'following',\n",
              "  'infection',\n",
              "  'apparently',\n",
              "  'cell',\n",
              "  'damage',\n",
              "  'death']]"
            ]
          },
          "metadata": {},
          "execution_count": 48
        }
      ]
    },
    {
      "cell_type": "code",
      "source": [
        "w2v_model = Word2Vec(sentences=g_sentences, size=1024, sg=1, window = 2, min_count=5, seed = 20, workers=10)\n",
        "w2v_model2 = Word2Vec(sentences=g_sentences, size=1024, sg=0, window = 2, min_count=5, seed = 20, workers=10)\n",
        "w2v_model3 = Word2Vec(sentences=g_sentences, size=1024, sg=1, window = 5, min_count=5, seed = 20, workers=10)\n",
        "w2v_model4 = Word2Vec(sentences=g_sentences, size=1024, sg=0, window = 5, min_count=5, seed = 20, workers=10)\n",
        "w2v_model5 = Word2Vec(sentences=g_sentences, size=1024, sg=1, window = 10, min_count=5, seed = 20, workers=10)\n",
        "w2v_model6 = Word2Vec(sentences=g_sentences, size=1024, sg=0, window = 10, min_count=5, seed = 20, workers=10)\n",
        "w2v_model7 = Word2Vec(sentences=g_sentences, size=1024, sg=1, window = 20, min_count=5, seed = 20, workers=10)\n",
        "w2v_model8 = Word2Vec(sentences=g_sentences, size=1024, sg=0, window = 20, min_count=5, seed = 20, workers=10)\n",
        "#You can save the model so you can reuse it later\n",
        "w2v_model.save('/content/gutenberg.w2v')\n",
        "\n",
        "#You can reload a saved model\n",
        "#w2v_model = gensim.models.Word2Vec.load('./models/gutenberg.w2v')"
      ],
      "metadata": {
        "colab": {
          "base_uri": "https://localhost:8080/",
          "height": 381
        },
        "id": "EeggKHvf8_ot",
        "outputId": "7ad38a27-d200-42c3-b0f9-8eb3c25e3f2c"
      },
      "execution_count": 49,
      "outputs": [
        {
          "output_type": "error",
          "ename": "KeyboardInterrupt",
          "evalue": "ignored",
          "traceback": [
            "\u001b[0;31m---------------------------------------------------------------------------\u001b[0m",
            "\u001b[0;31mKeyboardInterrupt\u001b[0m                         Traceback (most recent call last)",
            "\u001b[0;32m<ipython-input-49-cd87951578bb>\u001b[0m in \u001b[0;36m<module>\u001b[0;34m()\u001b[0m\n\u001b[1;32m      1\u001b[0m \u001b[0mw2v_model\u001b[0m \u001b[0;34m=\u001b[0m \u001b[0mWord2Vec\u001b[0m\u001b[0;34m(\u001b[0m\u001b[0msentences\u001b[0m\u001b[0;34m=\u001b[0m\u001b[0mg_sentences\u001b[0m\u001b[0;34m,\u001b[0m \u001b[0msize\u001b[0m\u001b[0;34m=\u001b[0m\u001b[0;36m1024\u001b[0m\u001b[0;34m,\u001b[0m \u001b[0msg\u001b[0m\u001b[0;34m=\u001b[0m\u001b[0;36m1\u001b[0m\u001b[0;34m,\u001b[0m \u001b[0mwindow\u001b[0m \u001b[0;34m=\u001b[0m \u001b[0;36m2\u001b[0m\u001b[0;34m,\u001b[0m \u001b[0mmin_count\u001b[0m\u001b[0;34m=\u001b[0m\u001b[0;36m5\u001b[0m\u001b[0;34m,\u001b[0m \u001b[0mseed\u001b[0m \u001b[0;34m=\u001b[0m \u001b[0;36m20\u001b[0m\u001b[0;34m,\u001b[0m \u001b[0mworkers\u001b[0m\u001b[0;34m=\u001b[0m\u001b[0;36m10\u001b[0m\u001b[0;34m)\u001b[0m\u001b[0;34m\u001b[0m\u001b[0;34m\u001b[0m\u001b[0m\n\u001b[0;32m----> 2\u001b[0;31m \u001b[0mw2v_model2\u001b[0m \u001b[0;34m=\u001b[0m \u001b[0mWord2Vec\u001b[0m\u001b[0;34m(\u001b[0m\u001b[0msentences\u001b[0m\u001b[0;34m=\u001b[0m\u001b[0mg_sentences\u001b[0m\u001b[0;34m,\u001b[0m \u001b[0msize\u001b[0m\u001b[0;34m=\u001b[0m\u001b[0;36m1024\u001b[0m\u001b[0;34m,\u001b[0m \u001b[0msg\u001b[0m\u001b[0;34m=\u001b[0m\u001b[0;36m0\u001b[0m\u001b[0;34m,\u001b[0m \u001b[0mwindow\u001b[0m \u001b[0;34m=\u001b[0m \u001b[0;36m2\u001b[0m\u001b[0;34m,\u001b[0m \u001b[0mmin_count\u001b[0m\u001b[0;34m=\u001b[0m\u001b[0;36m5\u001b[0m\u001b[0;34m,\u001b[0m \u001b[0mseed\u001b[0m \u001b[0;34m=\u001b[0m \u001b[0;36m20\u001b[0m\u001b[0;34m,\u001b[0m \u001b[0mworkers\u001b[0m\u001b[0;34m=\u001b[0m\u001b[0;36m10\u001b[0m\u001b[0;34m)\u001b[0m\u001b[0;34m\u001b[0m\u001b[0;34m\u001b[0m\u001b[0m\n\u001b[0m\u001b[1;32m      3\u001b[0m \u001b[0mw2v_model3\u001b[0m \u001b[0;34m=\u001b[0m \u001b[0mWord2Vec\u001b[0m\u001b[0;34m(\u001b[0m\u001b[0msentences\u001b[0m\u001b[0;34m=\u001b[0m\u001b[0mg_sentences\u001b[0m\u001b[0;34m,\u001b[0m \u001b[0msize\u001b[0m\u001b[0;34m=\u001b[0m\u001b[0;36m1024\u001b[0m\u001b[0;34m,\u001b[0m \u001b[0msg\u001b[0m\u001b[0;34m=\u001b[0m\u001b[0;36m1\u001b[0m\u001b[0;34m,\u001b[0m \u001b[0mwindow\u001b[0m \u001b[0;34m=\u001b[0m \u001b[0;36m5\u001b[0m\u001b[0;34m,\u001b[0m \u001b[0mmin_count\u001b[0m\u001b[0;34m=\u001b[0m\u001b[0;36m5\u001b[0m\u001b[0;34m,\u001b[0m \u001b[0mseed\u001b[0m \u001b[0;34m=\u001b[0m \u001b[0;36m20\u001b[0m\u001b[0;34m,\u001b[0m \u001b[0mworkers\u001b[0m\u001b[0;34m=\u001b[0m\u001b[0;36m10\u001b[0m\u001b[0;34m)\u001b[0m\u001b[0;34m\u001b[0m\u001b[0;34m\u001b[0m\u001b[0m\n\u001b[1;32m      4\u001b[0m \u001b[0mw2v_model4\u001b[0m \u001b[0;34m=\u001b[0m \u001b[0mWord2Vec\u001b[0m\u001b[0;34m(\u001b[0m\u001b[0msentences\u001b[0m\u001b[0;34m=\u001b[0m\u001b[0mg_sentences\u001b[0m\u001b[0;34m,\u001b[0m \u001b[0msize\u001b[0m\u001b[0;34m=\u001b[0m\u001b[0;36m1024\u001b[0m\u001b[0;34m,\u001b[0m \u001b[0msg\u001b[0m\u001b[0;34m=\u001b[0m\u001b[0;36m0\u001b[0m\u001b[0;34m,\u001b[0m \u001b[0mwindow\u001b[0m \u001b[0;34m=\u001b[0m \u001b[0;36m5\u001b[0m\u001b[0;34m,\u001b[0m \u001b[0mmin_count\u001b[0m\u001b[0;34m=\u001b[0m\u001b[0;36m5\u001b[0m\u001b[0;34m,\u001b[0m \u001b[0mseed\u001b[0m \u001b[0;34m=\u001b[0m \u001b[0;36m20\u001b[0m\u001b[0;34m,\u001b[0m \u001b[0mworkers\u001b[0m\u001b[0;34m=\u001b[0m\u001b[0;36m10\u001b[0m\u001b[0;34m)\u001b[0m\u001b[0;34m\u001b[0m\u001b[0;34m\u001b[0m\u001b[0m\n\u001b[1;32m      5\u001b[0m \u001b[0mw2v_model5\u001b[0m \u001b[0;34m=\u001b[0m \u001b[0mWord2Vec\u001b[0m\u001b[0;34m(\u001b[0m\u001b[0msentences\u001b[0m\u001b[0;34m=\u001b[0m\u001b[0mg_sentences\u001b[0m\u001b[0;34m,\u001b[0m \u001b[0msize\u001b[0m\u001b[0;34m=\u001b[0m\u001b[0;36m1024\u001b[0m\u001b[0;34m,\u001b[0m \u001b[0msg\u001b[0m\u001b[0;34m=\u001b[0m\u001b[0;36m1\u001b[0m\u001b[0;34m,\u001b[0m \u001b[0mwindow\u001b[0m \u001b[0;34m=\u001b[0m \u001b[0;36m10\u001b[0m\u001b[0;34m,\u001b[0m \u001b[0mmin_count\u001b[0m\u001b[0;34m=\u001b[0m\u001b[0;36m5\u001b[0m\u001b[0;34m,\u001b[0m \u001b[0mseed\u001b[0m \u001b[0;34m=\u001b[0m \u001b[0;36m20\u001b[0m\u001b[0;34m,\u001b[0m \u001b[0mworkers\u001b[0m\u001b[0;34m=\u001b[0m\u001b[0;36m10\u001b[0m\u001b[0;34m)\u001b[0m\u001b[0;34m\u001b[0m\u001b[0;34m\u001b[0m\u001b[0m\n",
            "\u001b[0;32m/usr/local/lib/python3.7/dist-packages/gensim/models/word2vec.py\u001b[0m in \u001b[0;36m__init__\u001b[0;34m(self, sentences, corpus_file, size, alpha, window, min_count, max_vocab_size, sample, seed, workers, min_alpha, sg, hs, negative, ns_exponent, cbow_mean, hashfxn, iter, null_word, trim_rule, sorted_vocab, batch_words, compute_loss, callbacks, max_final_vocab)\u001b[0m\n\u001b[1;32m    765\u001b[0m             \u001b[0mcallbacks\u001b[0m\u001b[0;34m=\u001b[0m\u001b[0mcallbacks\u001b[0m\u001b[0;34m,\u001b[0m \u001b[0mbatch_words\u001b[0m\u001b[0;34m=\u001b[0m\u001b[0mbatch_words\u001b[0m\u001b[0;34m,\u001b[0m \u001b[0mtrim_rule\u001b[0m\u001b[0;34m=\u001b[0m\u001b[0mtrim_rule\u001b[0m\u001b[0;34m,\u001b[0m \u001b[0msg\u001b[0m\u001b[0;34m=\u001b[0m\u001b[0msg\u001b[0m\u001b[0;34m,\u001b[0m \u001b[0malpha\u001b[0m\u001b[0;34m=\u001b[0m\u001b[0malpha\u001b[0m\u001b[0;34m,\u001b[0m \u001b[0mwindow\u001b[0m\u001b[0;34m=\u001b[0m\u001b[0mwindow\u001b[0m\u001b[0;34m,\u001b[0m\u001b[0;34m\u001b[0m\u001b[0;34m\u001b[0m\u001b[0m\n\u001b[1;32m    766\u001b[0m             \u001b[0mseed\u001b[0m\u001b[0;34m=\u001b[0m\u001b[0mseed\u001b[0m\u001b[0;34m,\u001b[0m \u001b[0mhs\u001b[0m\u001b[0;34m=\u001b[0m\u001b[0mhs\u001b[0m\u001b[0;34m,\u001b[0m \u001b[0mnegative\u001b[0m\u001b[0;34m=\u001b[0m\u001b[0mnegative\u001b[0m\u001b[0;34m,\u001b[0m \u001b[0mcbow_mean\u001b[0m\u001b[0;34m=\u001b[0m\u001b[0mcbow_mean\u001b[0m\u001b[0;34m,\u001b[0m \u001b[0mmin_alpha\u001b[0m\u001b[0;34m=\u001b[0m\u001b[0mmin_alpha\u001b[0m\u001b[0;34m,\u001b[0m \u001b[0mcompute_loss\u001b[0m\u001b[0;34m=\u001b[0m\u001b[0mcompute_loss\u001b[0m\u001b[0;34m,\u001b[0m\u001b[0;34m\u001b[0m\u001b[0;34m\u001b[0m\u001b[0m\n\u001b[0;32m--> 767\u001b[0;31m             fast_version=FAST_VERSION)\n\u001b[0m\u001b[1;32m    768\u001b[0m \u001b[0;34m\u001b[0m\u001b[0m\n\u001b[1;32m    769\u001b[0m     def _do_train_epoch(self, corpus_file, thread_id, offset, cython_vocab, thread_private_mem, cur_epoch,\n",
            "\u001b[0;32m/usr/local/lib/python3.7/dist-packages/gensim/models/base_any2vec.py\u001b[0m in \u001b[0;36m__init__\u001b[0;34m(self, sentences, corpus_file, workers, vector_size, epochs, callbacks, batch_words, trim_rule, sg, alpha, window, seed, hs, negative, ns_exponent, cbow_mean, min_alpha, compute_loss, fast_version, **kwargs)\u001b[0m\n\u001b[1;32m    761\u001b[0m                 \u001b[0msentences\u001b[0m\u001b[0;34m=\u001b[0m\u001b[0msentences\u001b[0m\u001b[0;34m,\u001b[0m \u001b[0mcorpus_file\u001b[0m\u001b[0;34m=\u001b[0m\u001b[0mcorpus_file\u001b[0m\u001b[0;34m,\u001b[0m \u001b[0mtotal_examples\u001b[0m\u001b[0;34m=\u001b[0m\u001b[0mself\u001b[0m\u001b[0;34m.\u001b[0m\u001b[0mcorpus_count\u001b[0m\u001b[0;34m,\u001b[0m\u001b[0;34m\u001b[0m\u001b[0;34m\u001b[0m\u001b[0m\n\u001b[1;32m    762\u001b[0m                 \u001b[0mtotal_words\u001b[0m\u001b[0;34m=\u001b[0m\u001b[0mself\u001b[0m\u001b[0;34m.\u001b[0m\u001b[0mcorpus_total_words\u001b[0m\u001b[0;34m,\u001b[0m \u001b[0mepochs\u001b[0m\u001b[0;34m=\u001b[0m\u001b[0mself\u001b[0m\u001b[0;34m.\u001b[0m\u001b[0mepochs\u001b[0m\u001b[0;34m,\u001b[0m \u001b[0mstart_alpha\u001b[0m\u001b[0;34m=\u001b[0m\u001b[0mself\u001b[0m\u001b[0;34m.\u001b[0m\u001b[0malpha\u001b[0m\u001b[0;34m,\u001b[0m\u001b[0;34m\u001b[0m\u001b[0;34m\u001b[0m\u001b[0m\n\u001b[0;32m--> 763\u001b[0;31m                 end_alpha=self.min_alpha, compute_loss=compute_loss)\n\u001b[0m\u001b[1;32m    764\u001b[0m         \u001b[0;32melse\u001b[0m\u001b[0;34m:\u001b[0m\u001b[0;34m\u001b[0m\u001b[0;34m\u001b[0m\u001b[0m\n\u001b[1;32m    765\u001b[0m             \u001b[0;32mif\u001b[0m \u001b[0mtrim_rule\u001b[0m \u001b[0;32mis\u001b[0m \u001b[0;32mnot\u001b[0m \u001b[0;32mNone\u001b[0m\u001b[0;34m:\u001b[0m\u001b[0;34m\u001b[0m\u001b[0;34m\u001b[0m\u001b[0m\n",
            "\u001b[0;32m/usr/local/lib/python3.7/dist-packages/gensim/models/word2vec.py\u001b[0m in \u001b[0;36mtrain\u001b[0;34m(self, sentences, corpus_file, total_examples, total_words, epochs, start_alpha, end_alpha, word_count, queue_factor, report_delay, compute_loss, callbacks)\u001b[0m\n\u001b[1;32m    890\u001b[0m             \u001b[0msentences\u001b[0m\u001b[0;34m=\u001b[0m\u001b[0msentences\u001b[0m\u001b[0;34m,\u001b[0m \u001b[0mcorpus_file\u001b[0m\u001b[0;34m=\u001b[0m\u001b[0mcorpus_file\u001b[0m\u001b[0;34m,\u001b[0m \u001b[0mtotal_examples\u001b[0m\u001b[0;34m=\u001b[0m\u001b[0mtotal_examples\u001b[0m\u001b[0;34m,\u001b[0m \u001b[0mtotal_words\u001b[0m\u001b[0;34m=\u001b[0m\u001b[0mtotal_words\u001b[0m\u001b[0;34m,\u001b[0m\u001b[0;34m\u001b[0m\u001b[0;34m\u001b[0m\u001b[0m\n\u001b[1;32m    891\u001b[0m             \u001b[0mepochs\u001b[0m\u001b[0;34m=\u001b[0m\u001b[0mepochs\u001b[0m\u001b[0;34m,\u001b[0m \u001b[0mstart_alpha\u001b[0m\u001b[0;34m=\u001b[0m\u001b[0mstart_alpha\u001b[0m\u001b[0;34m,\u001b[0m \u001b[0mend_alpha\u001b[0m\u001b[0;34m=\u001b[0m\u001b[0mend_alpha\u001b[0m\u001b[0;34m,\u001b[0m \u001b[0mword_count\u001b[0m\u001b[0;34m=\u001b[0m\u001b[0mword_count\u001b[0m\u001b[0;34m,\u001b[0m\u001b[0;34m\u001b[0m\u001b[0;34m\u001b[0m\u001b[0m\n\u001b[0;32m--> 892\u001b[0;31m             queue_factor=queue_factor, report_delay=report_delay, compute_loss=compute_loss, callbacks=callbacks)\n\u001b[0m\u001b[1;32m    893\u001b[0m \u001b[0;34m\u001b[0m\u001b[0m\n\u001b[1;32m    894\u001b[0m     \u001b[0;32mdef\u001b[0m \u001b[0mscore\u001b[0m\u001b[0;34m(\u001b[0m\u001b[0mself\u001b[0m\u001b[0;34m,\u001b[0m \u001b[0msentences\u001b[0m\u001b[0;34m,\u001b[0m \u001b[0mtotal_sentences\u001b[0m\u001b[0;34m=\u001b[0m\u001b[0mint\u001b[0m\u001b[0;34m(\u001b[0m\u001b[0;36m1e6\u001b[0m\u001b[0;34m)\u001b[0m\u001b[0;34m,\u001b[0m \u001b[0mchunksize\u001b[0m\u001b[0;34m=\u001b[0m\u001b[0;36m100\u001b[0m\u001b[0;34m,\u001b[0m \u001b[0mqueue_factor\u001b[0m\u001b[0;34m=\u001b[0m\u001b[0;36m2\u001b[0m\u001b[0;34m,\u001b[0m \u001b[0mreport_delay\u001b[0m\u001b[0;34m=\u001b[0m\u001b[0;36m1\u001b[0m\u001b[0;34m)\u001b[0m\u001b[0;34m:\u001b[0m\u001b[0;34m\u001b[0m\u001b[0;34m\u001b[0m\u001b[0m\n",
            "\u001b[0;32m/usr/local/lib/python3.7/dist-packages/gensim/models/base_any2vec.py\u001b[0m in \u001b[0;36mtrain\u001b[0;34m(self, sentences, corpus_file, total_examples, total_words, epochs, start_alpha, end_alpha, word_count, queue_factor, report_delay, compute_loss, callbacks, **kwargs)\u001b[0m\n\u001b[1;32m   1079\u001b[0m             \u001b[0mtotal_words\u001b[0m\u001b[0;34m=\u001b[0m\u001b[0mtotal_words\u001b[0m\u001b[0;34m,\u001b[0m \u001b[0mepochs\u001b[0m\u001b[0;34m=\u001b[0m\u001b[0mepochs\u001b[0m\u001b[0;34m,\u001b[0m \u001b[0mstart_alpha\u001b[0m\u001b[0;34m=\u001b[0m\u001b[0mstart_alpha\u001b[0m\u001b[0;34m,\u001b[0m \u001b[0mend_alpha\u001b[0m\u001b[0;34m=\u001b[0m\u001b[0mend_alpha\u001b[0m\u001b[0;34m,\u001b[0m \u001b[0mword_count\u001b[0m\u001b[0;34m=\u001b[0m\u001b[0mword_count\u001b[0m\u001b[0;34m,\u001b[0m\u001b[0;34m\u001b[0m\u001b[0;34m\u001b[0m\u001b[0m\n\u001b[1;32m   1080\u001b[0m             \u001b[0mqueue_factor\u001b[0m\u001b[0;34m=\u001b[0m\u001b[0mqueue_factor\u001b[0m\u001b[0;34m,\u001b[0m \u001b[0mreport_delay\u001b[0m\u001b[0;34m=\u001b[0m\u001b[0mreport_delay\u001b[0m\u001b[0;34m,\u001b[0m \u001b[0mcompute_loss\u001b[0m\u001b[0;34m=\u001b[0m\u001b[0mcompute_loss\u001b[0m\u001b[0;34m,\u001b[0m \u001b[0mcallbacks\u001b[0m\u001b[0;34m=\u001b[0m\u001b[0mcallbacks\u001b[0m\u001b[0;34m,\u001b[0m\u001b[0;34m\u001b[0m\u001b[0;34m\u001b[0m\u001b[0m\n\u001b[0;32m-> 1081\u001b[0;31m             **kwargs)\n\u001b[0m\u001b[1;32m   1082\u001b[0m \u001b[0;34m\u001b[0m\u001b[0m\n\u001b[1;32m   1083\u001b[0m     \u001b[0;32mdef\u001b[0m \u001b[0m_get_job_params\u001b[0m\u001b[0;34m(\u001b[0m\u001b[0mself\u001b[0m\u001b[0;34m,\u001b[0m \u001b[0mcur_epoch\u001b[0m\u001b[0;34m)\u001b[0m\u001b[0;34m:\u001b[0m\u001b[0;34m\u001b[0m\u001b[0;34m\u001b[0m\u001b[0m\n",
            "\u001b[0;32m/usr/local/lib/python3.7/dist-packages/gensim/models/base_any2vec.py\u001b[0m in \u001b[0;36mtrain\u001b[0;34m(self, data_iterable, corpus_file, epochs, total_examples, total_words, queue_factor, report_delay, callbacks, **kwargs)\u001b[0m\n\u001b[1;32m    551\u001b[0m                 trained_word_count_epoch, raw_word_count_epoch, job_tally_epoch = self._train_epoch(\n\u001b[1;32m    552\u001b[0m                     \u001b[0mdata_iterable\u001b[0m\u001b[0;34m,\u001b[0m \u001b[0mcur_epoch\u001b[0m\u001b[0;34m=\u001b[0m\u001b[0mcur_epoch\u001b[0m\u001b[0;34m,\u001b[0m \u001b[0mtotal_examples\u001b[0m\u001b[0;34m=\u001b[0m\u001b[0mtotal_examples\u001b[0m\u001b[0;34m,\u001b[0m\u001b[0;34m\u001b[0m\u001b[0;34m\u001b[0m\u001b[0m\n\u001b[0;32m--> 553\u001b[0;31m                     total_words=total_words, queue_factor=queue_factor, report_delay=report_delay)\n\u001b[0m\u001b[1;32m    554\u001b[0m             \u001b[0;32melse\u001b[0m\u001b[0;34m:\u001b[0m\u001b[0;34m\u001b[0m\u001b[0;34m\u001b[0m\u001b[0m\n\u001b[1;32m    555\u001b[0m                 trained_word_count_epoch, raw_word_count_epoch, job_tally_epoch = self._train_epoch_corpusfile(\n",
            "\u001b[0;32m/usr/local/lib/python3.7/dist-packages/gensim/models/base_any2vec.py\u001b[0m in \u001b[0;36m_train_epoch\u001b[0;34m(self, data_iterable, cur_epoch, total_examples, total_words, queue_factor, report_delay)\u001b[0m\n\u001b[1;32m    487\u001b[0m         trained_word_count, raw_word_count, job_tally = self._log_epoch_progress(\n\u001b[1;32m    488\u001b[0m             \u001b[0mprogress_queue\u001b[0m\u001b[0;34m,\u001b[0m \u001b[0mjob_queue\u001b[0m\u001b[0;34m,\u001b[0m \u001b[0mcur_epoch\u001b[0m\u001b[0;34m=\u001b[0m\u001b[0mcur_epoch\u001b[0m\u001b[0;34m,\u001b[0m \u001b[0mtotal_examples\u001b[0m\u001b[0;34m=\u001b[0m\u001b[0mtotal_examples\u001b[0m\u001b[0;34m,\u001b[0m \u001b[0mtotal_words\u001b[0m\u001b[0;34m=\u001b[0m\u001b[0mtotal_words\u001b[0m\u001b[0;34m,\u001b[0m\u001b[0;34m\u001b[0m\u001b[0;34m\u001b[0m\u001b[0m\n\u001b[0;32m--> 489\u001b[0;31m             report_delay=report_delay, is_corpus_file_mode=False)\n\u001b[0m\u001b[1;32m    490\u001b[0m \u001b[0;34m\u001b[0m\u001b[0m\n\u001b[1;32m    491\u001b[0m         \u001b[0;32mreturn\u001b[0m \u001b[0mtrained_word_count\u001b[0m\u001b[0;34m,\u001b[0m \u001b[0mraw_word_count\u001b[0m\u001b[0;34m,\u001b[0m \u001b[0mjob_tally\u001b[0m\u001b[0;34m\u001b[0m\u001b[0;34m\u001b[0m\u001b[0m\n",
            "\u001b[0;32m/usr/local/lib/python3.7/dist-packages/gensim/models/base_any2vec.py\u001b[0m in \u001b[0;36m_log_epoch_progress\u001b[0;34m(self, progress_queue, job_queue, cur_epoch, total_examples, total_words, report_delay, is_corpus_file_mode)\u001b[0m\n\u001b[1;32m    344\u001b[0m \u001b[0;34m\u001b[0m\u001b[0m\n\u001b[1;32m    345\u001b[0m         \u001b[0;32mwhile\u001b[0m \u001b[0munfinished_worker_count\u001b[0m \u001b[0;34m>\u001b[0m \u001b[0;36m0\u001b[0m\u001b[0;34m:\u001b[0m\u001b[0;34m\u001b[0m\u001b[0;34m\u001b[0m\u001b[0m\n\u001b[0;32m--> 346\u001b[0;31m             \u001b[0mreport\u001b[0m \u001b[0;34m=\u001b[0m \u001b[0mprogress_queue\u001b[0m\u001b[0;34m.\u001b[0m\u001b[0mget\u001b[0m\u001b[0;34m(\u001b[0m\u001b[0;34m)\u001b[0m  \u001b[0;31m# blocks if workers too slow\u001b[0m\u001b[0;34m\u001b[0m\u001b[0;34m\u001b[0m\u001b[0m\n\u001b[0m\u001b[1;32m    347\u001b[0m             \u001b[0;32mif\u001b[0m \u001b[0mreport\u001b[0m \u001b[0;32mis\u001b[0m \u001b[0;32mNone\u001b[0m\u001b[0;34m:\u001b[0m  \u001b[0;31m# a thread reporting that it finished\u001b[0m\u001b[0;34m\u001b[0m\u001b[0;34m\u001b[0m\u001b[0m\n\u001b[1;32m    348\u001b[0m                 \u001b[0munfinished_worker_count\u001b[0m \u001b[0;34m-=\u001b[0m \u001b[0;36m1\u001b[0m\u001b[0;34m\u001b[0m\u001b[0;34m\u001b[0m\u001b[0m\n",
            "\u001b[0;32m/usr/lib/python3.7/queue.py\u001b[0m in \u001b[0;36mget\u001b[0;34m(self, block, timeout)\u001b[0m\n\u001b[1;32m    168\u001b[0m             \u001b[0;32melif\u001b[0m \u001b[0mtimeout\u001b[0m \u001b[0;32mis\u001b[0m \u001b[0;32mNone\u001b[0m\u001b[0;34m:\u001b[0m\u001b[0;34m\u001b[0m\u001b[0;34m\u001b[0m\u001b[0m\n\u001b[1;32m    169\u001b[0m                 \u001b[0;32mwhile\u001b[0m \u001b[0;32mnot\u001b[0m \u001b[0mself\u001b[0m\u001b[0;34m.\u001b[0m\u001b[0m_qsize\u001b[0m\u001b[0;34m(\u001b[0m\u001b[0;34m)\u001b[0m\u001b[0;34m:\u001b[0m\u001b[0;34m\u001b[0m\u001b[0;34m\u001b[0m\u001b[0m\n\u001b[0;32m--> 170\u001b[0;31m                     \u001b[0mself\u001b[0m\u001b[0;34m.\u001b[0m\u001b[0mnot_empty\u001b[0m\u001b[0;34m.\u001b[0m\u001b[0mwait\u001b[0m\u001b[0;34m(\u001b[0m\u001b[0;34m)\u001b[0m\u001b[0;34m\u001b[0m\u001b[0;34m\u001b[0m\u001b[0m\n\u001b[0m\u001b[1;32m    171\u001b[0m             \u001b[0;32melif\u001b[0m \u001b[0mtimeout\u001b[0m \u001b[0;34m<\u001b[0m \u001b[0;36m0\u001b[0m\u001b[0;34m:\u001b[0m\u001b[0;34m\u001b[0m\u001b[0;34m\u001b[0m\u001b[0m\n\u001b[1;32m    172\u001b[0m                 \u001b[0;32mraise\u001b[0m \u001b[0mValueError\u001b[0m\u001b[0;34m(\u001b[0m\u001b[0;34m\"'timeout' must be a non-negative number\"\u001b[0m\u001b[0;34m)\u001b[0m\u001b[0;34m\u001b[0m\u001b[0;34m\u001b[0m\u001b[0m\n",
            "\u001b[0;32m/usr/lib/python3.7/threading.py\u001b[0m in \u001b[0;36mwait\u001b[0;34m(self, timeout)\u001b[0m\n\u001b[1;32m    294\u001b[0m         \u001b[0;32mtry\u001b[0m\u001b[0;34m:\u001b[0m    \u001b[0;31m# restore state no matter what (e.g., KeyboardInterrupt)\u001b[0m\u001b[0;34m\u001b[0m\u001b[0;34m\u001b[0m\u001b[0m\n\u001b[1;32m    295\u001b[0m             \u001b[0;32mif\u001b[0m \u001b[0mtimeout\u001b[0m \u001b[0;32mis\u001b[0m \u001b[0;32mNone\u001b[0m\u001b[0;34m:\u001b[0m\u001b[0;34m\u001b[0m\u001b[0;34m\u001b[0m\u001b[0m\n\u001b[0;32m--> 296\u001b[0;31m                 \u001b[0mwaiter\u001b[0m\u001b[0;34m.\u001b[0m\u001b[0macquire\u001b[0m\u001b[0;34m(\u001b[0m\u001b[0;34m)\u001b[0m\u001b[0;34m\u001b[0m\u001b[0;34m\u001b[0m\u001b[0m\n\u001b[0m\u001b[1;32m    297\u001b[0m                 \u001b[0mgotit\u001b[0m \u001b[0;34m=\u001b[0m \u001b[0;32mTrue\u001b[0m\u001b[0;34m\u001b[0m\u001b[0;34m\u001b[0m\u001b[0m\n\u001b[1;32m    298\u001b[0m             \u001b[0;32melse\u001b[0m\u001b[0;34m:\u001b[0m\u001b[0;34m\u001b[0m\u001b[0;34m\u001b[0m\u001b[0m\n",
            "\u001b[0;31mKeyboardInterrupt\u001b[0m: "
          ]
        }
      ]
    },
    {
      "cell_type": "code",
      "source": [
        "w2v_model.wv.most_similar('virus')"
      ],
      "metadata": {
        "colab": {
          "base_uri": "https://localhost:8080/"
        },
        "id": "NZo5wkm9Cl7a",
        "outputId": "81f5d2ed-05a8-4737-f72b-2e1d93dd3d42"
      },
      "execution_count": 47,
      "outputs": [
        {
          "output_type": "execute_result",
          "data": {
            "text/plain": [
              "[('strain', 0.9998544454574585),\n",
              " ('simplex', 0.9998475313186646),\n",
              " ('type', 0.9998443722724915),\n",
              " ('infected', 0.9998398423194885),\n",
              " ('herpes', 0.9998347163200378),\n",
              " ('isolated', 0.9998308420181274),\n",
              " ('antigen', 0.9998255372047424),\n",
              " ('mouse', 0.9998186230659485),\n",
              " ('infection', 0.9998174905776978),\n",
              " ('line', 0.9998123049736023)]"
            ]
          },
          "metadata": {},
          "execution_count": 47
        }
      ]
    },
    {
      "cell_type": "code",
      "source": [
        "print(w2v_model.wv.most_similar(positive=['husband','woman'], negative=['man'],topn=5))"
      ],
      "metadata": {
        "colab": {
          "base_uri": "https://localhost:8080/",
          "height": 312
        },
        "id": "D3kYKk3-GsYx",
        "outputId": "d234800d-fa0a-4c53-9c93-5cbdc8aeca71"
      },
      "execution_count": 41,
      "outputs": [
        {
          "output_type": "error",
          "ename": "KeyError",
          "evalue": "ignored",
          "traceback": [
            "\u001b[0;31m---------------------------------------------------------------------------\u001b[0m",
            "\u001b[0;31mKeyError\u001b[0m                                  Traceback (most recent call last)",
            "\u001b[0;32m<ipython-input-41-747fde66f43d>\u001b[0m in \u001b[0;36m<module>\u001b[0;34m()\u001b[0m\n\u001b[0;32m----> 1\u001b[0;31m \u001b[0mprint\u001b[0m\u001b[0;34m(\u001b[0m\u001b[0mw2v_model\u001b[0m\u001b[0;34m.\u001b[0m\u001b[0mwv\u001b[0m\u001b[0;34m.\u001b[0m\u001b[0mmost_similar\u001b[0m\u001b[0;34m(\u001b[0m\u001b[0mpositive\u001b[0m\u001b[0;34m=\u001b[0m\u001b[0;34m[\u001b[0m\u001b[0;34m'husband'\u001b[0m\u001b[0;34m,\u001b[0m\u001b[0;34m'woman'\u001b[0m\u001b[0;34m]\u001b[0m\u001b[0;34m,\u001b[0m \u001b[0mnegative\u001b[0m\u001b[0;34m=\u001b[0m\u001b[0;34m[\u001b[0m\u001b[0;34m'man'\u001b[0m\u001b[0;34m]\u001b[0m\u001b[0;34m,\u001b[0m\u001b[0mtopn\u001b[0m\u001b[0;34m=\u001b[0m\u001b[0;36m5\u001b[0m\u001b[0;34m)\u001b[0m\u001b[0;34m)\u001b[0m\u001b[0;34m\u001b[0m\u001b[0;34m\u001b[0m\u001b[0m\n\u001b[0m",
            "\u001b[0;32m/usr/local/lib/python3.7/dist-packages/gensim/models/keyedvectors.py\u001b[0m in \u001b[0;36mmost_similar\u001b[0;34m(self, positive, negative, topn, restrict_vocab, indexer)\u001b[0m\n\u001b[1;32m    529\u001b[0m                 \u001b[0mmean\u001b[0m\u001b[0;34m.\u001b[0m\u001b[0mappend\u001b[0m\u001b[0;34m(\u001b[0m\u001b[0mweight\u001b[0m \u001b[0;34m*\u001b[0m \u001b[0mword\u001b[0m\u001b[0;34m)\u001b[0m\u001b[0;34m\u001b[0m\u001b[0;34m\u001b[0m\u001b[0m\n\u001b[1;32m    530\u001b[0m             \u001b[0;32melse\u001b[0m\u001b[0;34m:\u001b[0m\u001b[0;34m\u001b[0m\u001b[0;34m\u001b[0m\u001b[0m\n\u001b[0;32m--> 531\u001b[0;31m                 \u001b[0mmean\u001b[0m\u001b[0;34m.\u001b[0m\u001b[0mappend\u001b[0m\u001b[0;34m(\u001b[0m\u001b[0mweight\u001b[0m \u001b[0;34m*\u001b[0m \u001b[0mself\u001b[0m\u001b[0;34m.\u001b[0m\u001b[0mword_vec\u001b[0m\u001b[0;34m(\u001b[0m\u001b[0mword\u001b[0m\u001b[0;34m,\u001b[0m \u001b[0muse_norm\u001b[0m\u001b[0;34m=\u001b[0m\u001b[0;32mTrue\u001b[0m\u001b[0;34m)\u001b[0m\u001b[0;34m)\u001b[0m\u001b[0;34m\u001b[0m\u001b[0;34m\u001b[0m\u001b[0m\n\u001b[0m\u001b[1;32m    532\u001b[0m                 \u001b[0;32mif\u001b[0m \u001b[0mword\u001b[0m \u001b[0;32min\u001b[0m \u001b[0mself\u001b[0m\u001b[0;34m.\u001b[0m\u001b[0mvocab\u001b[0m\u001b[0;34m:\u001b[0m\u001b[0;34m\u001b[0m\u001b[0;34m\u001b[0m\u001b[0m\n\u001b[1;32m    533\u001b[0m                     \u001b[0mall_words\u001b[0m\u001b[0;34m.\u001b[0m\u001b[0madd\u001b[0m\u001b[0;34m(\u001b[0m\u001b[0mself\u001b[0m\u001b[0;34m.\u001b[0m\u001b[0mvocab\u001b[0m\u001b[0;34m[\u001b[0m\u001b[0mword\u001b[0m\u001b[0;34m]\u001b[0m\u001b[0;34m.\u001b[0m\u001b[0mindex\u001b[0m\u001b[0;34m)\u001b[0m\u001b[0;34m\u001b[0m\u001b[0;34m\u001b[0m\u001b[0m\n",
            "\u001b[0;32m/usr/local/lib/python3.7/dist-packages/gensim/models/keyedvectors.py\u001b[0m in \u001b[0;36mword_vec\u001b[0;34m(self, word, use_norm)\u001b[0m\n\u001b[1;32m    450\u001b[0m             \u001b[0;32mreturn\u001b[0m \u001b[0mresult\u001b[0m\u001b[0;34m\u001b[0m\u001b[0;34m\u001b[0m\u001b[0m\n\u001b[1;32m    451\u001b[0m         \u001b[0;32melse\u001b[0m\u001b[0;34m:\u001b[0m\u001b[0;34m\u001b[0m\u001b[0;34m\u001b[0m\u001b[0m\n\u001b[0;32m--> 452\u001b[0;31m             \u001b[0;32mraise\u001b[0m \u001b[0mKeyError\u001b[0m\u001b[0;34m(\u001b[0m\u001b[0;34m\"word '%s' not in vocabulary\"\u001b[0m \u001b[0;34m%\u001b[0m \u001b[0mword\u001b[0m\u001b[0;34m)\u001b[0m\u001b[0;34m\u001b[0m\u001b[0;34m\u001b[0m\u001b[0m\n\u001b[0m\u001b[1;32m    453\u001b[0m \u001b[0;34m\u001b[0m\u001b[0m\n\u001b[1;32m    454\u001b[0m     \u001b[0;32mdef\u001b[0m \u001b[0mget_vector\u001b[0m\u001b[0;34m(\u001b[0m\u001b[0mself\u001b[0m\u001b[0;34m,\u001b[0m \u001b[0mword\u001b[0m\u001b[0;34m)\u001b[0m\u001b[0;34m:\u001b[0m\u001b[0;34m\u001b[0m\u001b[0;34m\u001b[0m\u001b[0m\n",
            "\u001b[0;31mKeyError\u001b[0m: \"word 'husband' not in vocabulary\""
          ]
        }
      ]
    },
    {
      "cell_type": "code",
      "source": [
        ""
      ],
      "metadata": {
        "id": "5sKQJ7DSIiRA"
      },
      "execution_count": null,
      "outputs": []
    }
  ]
}