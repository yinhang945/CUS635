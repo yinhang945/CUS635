{
  "nbformat": 4,
  "nbformat_minor": 0,
  "metadata": {
    "colab": {
      "name": "CUS635_Assignment02.ipynb",
      "provenance": [],
      "authorship_tag": "ABX9TyPFjIf1e1YP5GeNIbo5L0ym",
      "include_colab_link": true
    },
    "kernelspec": {
      "name": "python3",
      "display_name": "Python 3"
    },
    "language_info": {
      "name": "python"
    }
  },
  "cells": [
    {
      "cell_type": "markdown",
      "metadata": {
        "id": "view-in-github",
        "colab_type": "text"
      },
      "source": [
        "<a href=\"https://colab.research.google.com/github/yinhang945/CUS635/blob/main/CUS635_Assignment02.ipynb\" target=\"_parent\"><img src=\"https://colab.research.google.com/assets/colab-badge.svg\" alt=\"Open In Colab\"/></a>"
      ]
    },
    {
      "cell_type": "code",
      "execution_count": 1,
      "metadata": {
        "id": "SRG62u2olrJc",
        "colab": {
          "base_uri": "https://localhost:8080/"
        },
        "outputId": "f3197186-250c-48fc-bd14-0c3c3fb187be"
      },
      "outputs": [
        {
          "output_type": "stream",
          "name": "stdout",
          "text": [
            "[nltk_data] Downloading package punkt to /root/nltk_data...\n",
            "[nltk_data]   Unzipping tokenizers/punkt.zip.\n",
            "[nltk_data] Downloading package stopwords to /root/nltk_data...\n",
            "[nltk_data]   Unzipping corpora/stopwords.zip.\n",
            "[nltk_data] Downloading package wordnet to /root/nltk_data...\n",
            "[nltk_data]   Unzipping corpora/wordnet.zip.\n"
          ]
        },
        {
          "output_type": "execute_result",
          "data": {
            "text/plain": [
              "True"
            ]
          },
          "metadata": {},
          "execution_count": 1
        }
      ],
      "source": [
        "#download and import all necessary libraries\n",
        "import nltk\n",
        "from nltk import sent_tokenize, word_tokenize\n",
        "from nltk.corpus import stopwords\n",
        "import pandas as pd\n",
        "import gensim\n",
        "import pickle\n",
        "from gensim.models.word2vec import Word2Vec\n",
        "from sklearn.manifold import TSNE\n",
        "import warnings\n",
        "warnings.filterwarnings('ignore')\n",
        "nltk.download('punkt')\n",
        "nltk.download('stopwords')\n",
        "nltk.download('wordnet')"
      ]
    },
    {
      "cell_type": "code",
      "source": [
        "#load the data file provided in assignment description\n",
        "with open ('/content/pubmed_abstracts_assignment_2.bin', 'rb') as fp:\n",
        "    abstract_sample = pickle.load(fp)"
      ],
      "metadata": {
        "id": "_9oxwWNhsepB"
      },
      "execution_count": 3,
      "outputs": []
    },
    {
      "cell_type": "code",
      "source": [
        "#Sneak peek of the data\n",
        "abstract_sample[0]"
      ],
      "metadata": {
        "colab": {
          "base_uri": "https://localhost:8080/",
          "height": 70
        },
        "id": "jAePiJWK2tOO",
        "outputId": "0d9549fc-6ffd-404b-e687-6c3ea04265ca"
      },
      "execution_count": 4,
      "outputs": [
        {
          "output_type": "execute_result",
          "data": {
            "text/plain": [
              "'Intervirology. Extensively degraded RNA was isolated from virions of influenza virus which had been oxidized with sodium m-periodate. Similarly, although to a lesser extent, RNA isolated from periodate-treated ribonucleoprotein of influenza virus was also degraded. In contrast, influenza virus RNA, if first freed from other virion components, was not degraded by periodate oxidation.'"
            ],
            "application/vnd.google.colaboratory.intrinsic+json": {
              "type": "string"
            }
          },
          "metadata": {},
          "execution_count": 4
        }
      ]
    },
    {
      "cell_type": "code",
      "source": [
        "#split the dataset into tokens\n",
        "tokenized_abs_sample = []\n",
        "for sent in abstract_sample:\n",
        "  tok_sents = []\n",
        "  tokens = nltk.word_tokenize(sent)\n",
        "  for token in tokens:\n",
        "    tok_sents.append(token)\n",
        "  tokenized_abs_sample.append(tok_sents)\n",
        "tokenized_abs_sample[0:2]"
      ],
      "metadata": {
        "colab": {
          "base_uri": "https://localhost:8080/"
        },
        "id": "Yq6IRSp1zUXv",
        "outputId": "d677d50b-552a-4a38-ec6c-e25fbc0f7476"
      },
      "execution_count": 5,
      "outputs": [
        {
          "output_type": "execute_result",
          "data": {
            "text/plain": [
              "[['Intervirology',\n",
              "  '.',\n",
              "  'Extensively',\n",
              "  'degraded',\n",
              "  'RNA',\n",
              "  'was',\n",
              "  'isolated',\n",
              "  'from',\n",
              "  'virions',\n",
              "  'of',\n",
              "  'influenza',\n",
              "  'virus',\n",
              "  'which',\n",
              "  'had',\n",
              "  'been',\n",
              "  'oxidized',\n",
              "  'with',\n",
              "  'sodium',\n",
              "  'm-periodate',\n",
              "  '.',\n",
              "  'Similarly',\n",
              "  ',',\n",
              "  'although',\n",
              "  'to',\n",
              "  'a',\n",
              "  'lesser',\n",
              "  'extent',\n",
              "  ',',\n",
              "  'RNA',\n",
              "  'isolated',\n",
              "  'from',\n",
              "  'periodate-treated',\n",
              "  'ribonucleoprotein',\n",
              "  'of',\n",
              "  'influenza',\n",
              "  'virus',\n",
              "  'was',\n",
              "  'also',\n",
              "  'degraded',\n",
              "  '.',\n",
              "  'In',\n",
              "  'contrast',\n",
              "  ',',\n",
              "  'influenza',\n",
              "  'virus',\n",
              "  'RNA',\n",
              "  ',',\n",
              "  'if',\n",
              "  'first',\n",
              "  'freed',\n",
              "  'from',\n",
              "  'other',\n",
              "  'virion',\n",
              "  'components',\n",
              "  ',',\n",
              "  'was',\n",
              "  'not',\n",
              "  'degraded',\n",
              "  'by',\n",
              "  'periodate',\n",
              "  'oxidation',\n",
              "  '.'],\n",
              " ['Journal',\n",
              "  'of',\n",
              "  'general',\n",
              "  'microbiology',\n",
              "  '.',\n",
              "  'Some',\n",
              "  'mutants',\n",
              "  'and',\n",
              "  'stock',\n",
              "  'strains',\n",
              "  'of',\n",
              "  'Escherichia',\n",
              "  'coli',\n",
              "  'K12',\n",
              "  'were',\n",
              "  'sensitive',\n",
              "  'to',\n",
              "  'acriflavine',\n",
              "  'in',\n",
              "  'the',\n",
              "  'presence',\n",
              "  'of',\n",
              "  'inorganic',\n",
              "  'phosphate',\n",
              "  'but',\n",
              "  'were',\n",
              "  'resistant',\n",
              "  'to',\n",
              "  'acriflavine',\n",
              "  'in',\n",
              "  'its',\n",
              "  'absence',\n",
              "  '.',\n",
              "  'They',\n",
              "  'mutated',\n",
              "  'spontaneously',\n",
              "  'to',\n",
              "  'resistance',\n",
              "  'to',\n",
              "  'acriflavine',\n",
              "  'plus',\n",
              "  'phosphate',\n",
              "  '.',\n",
              "  'The',\n",
              "  'synergistic',\n",
              "  'effect',\n",
              "  'of',\n",
              "  'phosphate',\n",
              "  'on',\n",
              "  'acriflavine',\n",
              "  'sensitivity',\n",
              "  'was',\n",
              "  'increased',\n",
              "  'at',\n",
              "  'high',\n",
              "  'pH',\n",
              "  'values',\n",
              "  '.',\n",
              "  'Genetic',\n",
              "  'analysis',\n",
              "  'suggested',\n",
              "  'that',\n",
              "  'the',\n",
              "  'mutations',\n",
              "  'occurred',\n",
              "  'in',\n",
              "  'the',\n",
              "  'gene',\n",
              "  'acrA',\n",
              "  '.',\n",
              "  'Electron',\n",
              "  'microscopic',\n",
              "  'observation',\n",
              "  'suggested',\n",
              "  'that',\n",
              "  'the',\n",
              "  'presence',\n",
              "  'of',\n",
              "  'acriflavine',\n",
              "  'plus',\n",
              "  'phosphate',\n",
              "  'affected',\n",
              "  'the',\n",
              "  'structure',\n",
              "  'of',\n",
              "  'the',\n",
              "  'plasma',\n",
              "  'membrane',\n",
              "  'and',\n",
              "  'the',\n",
              "  'cytoplasm',\n",
              "  'under',\n",
              "  'it',\n",
              "  '.',\n",
              "  'This',\n",
              "  'structural',\n",
              "  'alteration',\n",
              "  'was',\n",
              "  'not',\n",
              "  'caused',\n",
              "  'by',\n",
              "  'acriflavine',\n",
              "  'alone',\n",
              "  '.',\n",
              "  'Acridine',\n",
              "  'orange',\n",
              "  'plus',\n",
              "  'phosphate',\n",
              "  'can',\n",
              "  'more',\n",
              "  'effectively',\n",
              "  'eliminate',\n",
              "  'the',\n",
              "  'plasmid',\n",
              "  'F8-gal+',\n",
              "  'than',\n",
              "  'acridine',\n",
              "  'orange',\n",
              "  'alone',\n",
              "  '.']]"
            ]
          },
          "metadata": {},
          "execution_count": 5
        }
      ]
    },
    {
      "cell_type": "code",
      "source": [
        "#define pre-processing functions\n",
        "def remove_punctuation(corpus):\n",
        "    punctuations = \".,\\\"-\\\\/#!?$%\\^&\\*;:{}=\\-_'~()\"    \n",
        "    filtered_corpus = [token for token in corpus if (not token in punctuations)]\n",
        "    return filtered_corpus\n",
        "\n",
        "def apply_stopwording(corpus, min_len):\n",
        "    filtered_corpus = [token.lower() for token in corpus if (not token in stopwords.words('english') and len(token)>min_len)]\n",
        "    return filtered_corpus\n",
        "\n",
        "def apply_lemmatization(corpus):\n",
        "    lemmatizer = nltk.WordNetLemmatizer()\n",
        "    normalized_corpus = [lemmatizer.lemmatize(token) for token in corpus]\n",
        "    return normalized_corpus"
      ],
      "metadata": {
        "id": "anequFBD0laf"
      },
      "execution_count": 6,
      "outputs": []
    },
    {
      "cell_type": "code",
      "source": [
        "#apply pre-processing functions to our dataset\n",
        "g_sentences=[]\n",
        "for sentence in tokenized_abs_sample:\n",
        "    g_sentences.append(apply_lemmatization(apply_stopwording(remove_punctuation(sentence),3)))\n",
        "g_sentences[:2]"
      ],
      "metadata": {
        "colab": {
          "base_uri": "https://localhost:8080/"
        },
        "id": "ly-2Hhdh8IS8",
        "outputId": "150675d5-8a9a-4938-e515-fd40756a8059"
      },
      "execution_count": 7,
      "outputs": [
        {
          "output_type": "execute_result",
          "data": {
            "text/plain": [
              "[['intervirology',\n",
              "  'extensively',\n",
              "  'degraded',\n",
              "  'isolated',\n",
              "  'virion',\n",
              "  'influenza',\n",
              "  'virus',\n",
              "  'oxidized',\n",
              "  'sodium',\n",
              "  'm-periodate',\n",
              "  'similarly',\n",
              "  'although',\n",
              "  'lesser',\n",
              "  'extent',\n",
              "  'isolated',\n",
              "  'periodate-treated',\n",
              "  'ribonucleoprotein',\n",
              "  'influenza',\n",
              "  'virus',\n",
              "  'also',\n",
              "  'degraded',\n",
              "  'contrast',\n",
              "  'influenza',\n",
              "  'virus',\n",
              "  'first',\n",
              "  'freed',\n",
              "  'virion',\n",
              "  'component',\n",
              "  'degraded',\n",
              "  'periodate',\n",
              "  'oxidation'],\n",
              " ['journal',\n",
              "  'general',\n",
              "  'microbiology',\n",
              "  'some',\n",
              "  'mutant',\n",
              "  'stock',\n",
              "  'strain',\n",
              "  'escherichia',\n",
              "  'coli',\n",
              "  'sensitive',\n",
              "  'acriflavine',\n",
              "  'presence',\n",
              "  'inorganic',\n",
              "  'phosphate',\n",
              "  'resistant',\n",
              "  'acriflavine',\n",
              "  'absence',\n",
              "  'they',\n",
              "  'mutated',\n",
              "  'spontaneously',\n",
              "  'resistance',\n",
              "  'acriflavine',\n",
              "  'plus',\n",
              "  'phosphate',\n",
              "  'synergistic',\n",
              "  'effect',\n",
              "  'phosphate',\n",
              "  'acriflavine',\n",
              "  'sensitivity',\n",
              "  'increased',\n",
              "  'high',\n",
              "  'value',\n",
              "  'genetic',\n",
              "  'analysis',\n",
              "  'suggested',\n",
              "  'mutation',\n",
              "  'occurred',\n",
              "  'gene',\n",
              "  'acra',\n",
              "  'electron',\n",
              "  'microscopic',\n",
              "  'observation',\n",
              "  'suggested',\n",
              "  'presence',\n",
              "  'acriflavine',\n",
              "  'plus',\n",
              "  'phosphate',\n",
              "  'affected',\n",
              "  'structure',\n",
              "  'plasma',\n",
              "  'membrane',\n",
              "  'cytoplasm',\n",
              "  'this',\n",
              "  'structural',\n",
              "  'alteration',\n",
              "  'caused',\n",
              "  'acriflavine',\n",
              "  'alone',\n",
              "  'acridine',\n",
              "  'orange',\n",
              "  'plus',\n",
              "  'phosphate',\n",
              "  'effectively',\n",
              "  'eliminate',\n",
              "  'plasmid',\n",
              "  'f8-gal+',\n",
              "  'acridine',\n",
              "  'orange',\n",
              "  'alone']]"
            ]
          },
          "metadata": {},
          "execution_count": 7
        }
      ]
    },
    {
      "cell_type": "code",
      "source": [
        "#sneak peek of the after-processing dataset\n",
        "g_sentences[28:30]"
      ],
      "metadata": {
        "colab": {
          "base_uri": "https://localhost:8080/"
        },
        "id": "2XleE1A_x_N8",
        "outputId": "ea099aa9-e2b5-447f-c983-ee9d39c4bd2d"
      },
      "execution_count": 8,
      "outputs": [
        {
          "output_type": "execute_result",
          "data": {
            "text/plain": [
              "[['clinical',\n",
              "  'science',\n",
              "  'molecular',\n",
              "  'medicine',\n",
              "  'intracellular',\n",
              "  'hydrogen',\n",
              "  'activity',\n",
              "  'extimated',\n",
              "  'human',\n",
              "  'erythrocyte',\n",
              "  'nucleated',\n",
              "  'avian',\n",
              "  'erythrocyte',\n",
              "  'measurement',\n",
              "  'distribution',\n",
              "  'ammonia',\n",
              "  \"5,5'-dimethyloxazolidine-2,4'-dione\",\n",
              "  'intracellular',\n",
              "  'extracellular',\n",
              "  'fluid',\n",
              "  'human',\n",
              "  'erythrocyte',\n",
              "  'difference',\n",
              "  'value',\n",
              "  'derived',\n",
              "  'measurement',\n",
              "  'either',\n",
              "  'ammonia',\n",
              "  'avian',\n",
              "  'erythrocyte',\n",
              "  'ammonia',\n",
              "  'consistently',\n",
              "  'greater',\n",
              "  'indicating',\n",
              "  'significant',\n",
              "  'acid-base',\n",
              "  'heterogeneity',\n",
              "  'intracellular',\n",
              "  'water',\n",
              "  'degree',\n",
              "  'heterogeneity',\n",
              "  'assessed',\n",
              "  'reference',\n",
              "  'theoretical',\n",
              "  'model',\n",
              "  'compartment',\n",
              "  'equal',\n",
              "  'size',\n",
              "  'experiment',\n",
              "  'nucleus',\n",
              "  'isolated',\n",
              "  'avian',\n",
              "  'erythrocyte',\n",
              "  'suggested',\n",
              "  'bound',\n",
              "  'nucleoprotein',\n",
              "  'nucleus',\n",
              "  'acidic',\n",
              "  'cytoplasm'],\n",
              " ['drug',\n",
              "  'metabolism',\n",
              "  'disposition',\n",
              "  'biological',\n",
              "  'fate',\n",
              "  'chemical',\n",
              "  'metabolism',\n",
              "  'dihalomethanes',\n",
              "  'liver',\n",
              "  'cytosol',\n",
              "  'fraction',\n",
              "  'yielded',\n",
              "  'formaldehyde',\n",
              "  'inorganic',\n",
              "  'halide',\n",
              "  'product',\n",
              "  'loss',\n",
              "  'metabolic',\n",
              "  'activity',\n",
              "  'resulting',\n",
              "  'dialysis',\n",
              "  'cytosol',\n",
              "  'restored',\n",
              "  'glutathione',\n",
              "  'cysteine',\n",
              "  'could',\n",
              "  'substitute',\n",
              "  'cofactor',\n",
              "  'found',\n",
              "  'required',\n",
              "  'activity',\n",
              "  'optimum',\n",
              "  'condition',\n",
              "  'biotransformation',\n",
              "  'respect',\n",
              "  'time',\n",
              "  'temperature',\n",
              "  'protein',\n",
              "  'concentration',\n",
              "  'determined',\n",
              "  'rate',\n",
              "  'metabolism',\n",
              "  'dihalomethanes',\n",
              "  'showed',\n",
              "  'following',\n",
              "  'order',\n",
              "  'ch2i2',\n",
              "  'greater',\n",
              "  'ch2br2',\n",
              "  'congruent',\n",
              "  'ch2brci',\n",
              "  'greater',\n",
              "  'ch2ci2',\n",
              "  'administration',\n",
              "  'enzyme',\n",
              "  'inducer',\n",
              "  'phenobarbital',\n",
              "  'rat',\n",
              "  'alter',\n",
              "  'metabolic',\n",
              "  'pathway',\n",
              "  'repeated',\n",
              "  'administration',\n",
              "  'ch2br2',\n",
              "  'ch2ci2',\n",
              "  'change',\n",
              "  'rate',\n",
              "  'metabolism',\n",
              "  'enzyme',\n",
              "  'catalyzing',\n",
              "  'reaction',\n",
              "  'localized',\n",
              "  'liver',\n",
              "  'compound',\n",
              "  'known',\n",
              "  'serve',\n",
              "  'substrate',\n",
              "  'various',\n",
              "  'transferase',\n",
              "  'inhibited',\n",
              "  'reaction',\n",
              "  'capable',\n",
              "  'interacting',\n",
              "  'sulfhydryl',\n",
              "  'group']]"
            ]
          },
          "metadata": {},
          "execution_count": 8
        }
      ]
    },
    {
      "cell_type": "code",
      "source": [
        "#generate and save word space embeddings by using embedding size: 1024, windows size: 2, 5, 10 and 20\n",
        "w2v_model = Word2Vec(sentences=g_sentences, size=1024, sg=1, window = 2, min_count=5, seed = 20, workers=10)\n",
        "w2v_model2 = Word2Vec(sentences=g_sentences, size=1024, sg=0, window = 2, min_count=5, seed = 20, workers=10)\n",
        "w2v_model3 = Word2Vec(sentences=g_sentences, size=1024, sg=1, window = 5, min_count=5, seed = 20, workers=10)\n",
        "w2v_model4 = Word2Vec(sentences=g_sentences, size=1024, sg=0, window = 5, min_count=5, seed = 20, workers=10)\n",
        "w2v_model5 = Word2Vec(sentences=g_sentences, size=1024, sg=1, window = 10, min_count=5, seed = 20, workers=10)\n",
        "w2v_model6 = Word2Vec(sentences=g_sentences, size=1024, sg=0, window = 10, min_count=5, seed = 20, workers=10)\n",
        "w2v_model7 = Word2Vec(sentences=g_sentences, size=1024, sg=1, window = 20, min_count=5, seed = 20, workers=10)\n",
        "w2v_model8 = Word2Vec(sentences=g_sentences, size=1024, sg=0, window = 20, min_count=5, seed = 20, workers=10)\n",
        "\n",
        "w2v_model.wv.save_word2vec_format('/content/The_Avengers_pubmed_w2v_uncased_1024_2_skip.emb')\n",
        "w2v_model2.wv.save_word2vec_format('/content/The_Avengers_pubmed_w2v_uncased_1024_2_cbow.emb')\n",
        "w2v_model3.wv.save_word2vec_format('/content/The_Avengers_pubmed_w2v_uncased_1024_5_skip.emb')\n",
        "w2v_model4.wv.save_word2vec_format('/content/The_Avengers_pubmed_w2v_uncased_1024_5_cbow.emb')\n",
        "w2v_model5.wv.save_word2vec_format('/content/The_Avengers_pubmed_w2v_uncased_1024_10_skip.emb')\n",
        "w2v_model6.wv.save_word2vec_format('/content/The_Avengers_pubmed_w2v_uncased_1024_10_cbow.emb')\n",
        "w2v_model7.wv.save_word2vec_format('/content/The_Avengers_pubmed_w2v_uncased_1024_20_skip.emb')\n",
        "w2v_model8.wv.save_word2vec_format('/content/The_Avengers_pubmed_w2v_uncased_1024_20_cbow.emb')"
      ],
      "metadata": {
        "id": "EeggKHvf8_ot"
      },
      "execution_count": 9,
      "outputs": []
    },
    {
      "cell_type": "code",
      "source": [
        "w2v_model6.wv.most_similar('greater')"
      ],
      "metadata": {
        "colab": {
          "base_uri": "https://localhost:8080/"
        },
        "id": "NZo5wkm9Cl7a",
        "outputId": "b2c7acb4-57bf-4c99-bd81-52fc07f4ec27"
      },
      "execution_count": null,
      "outputs": [
        {
          "output_type": "execute_result",
          "data": {
            "text/plain": [
              "[('higher', 0.7223869562149048),\n",
              " ('lower', 0.6596841812133789),\n",
              " ('larger', 0.6342519521713257),\n",
              " ('stronger', 0.6338860988616943),\n",
              " ('smaller', 0.6266578435897827),\n",
              " ('greatest', 0.6204589605331421),\n",
              " ('equal', 0.5960321426391602),\n",
              " ('lesser', 0.5670566558837891),\n",
              " ('le', 0.5554319620132446),\n",
              " ('fewer', 0.5510126352310181)]"
            ]
          },
          "metadata": {},
          "execution_count": 57
        }
      ]
    },
    {
      "cell_type": "code",
      "source": [
        "print(w2v_model8.wv.most_similar(positive=['normal','uncommon'], negative=['common'],topn=5))"
      ],
      "metadata": {
        "colab": {
          "base_uri": "https://localhost:8080/"
        },
        "id": "D3kYKk3-GsYx",
        "outputId": "784a3cb0-f560-41ec-d73c-471b19de2aab"
      },
      "execution_count": null,
      "outputs": [
        {
          "output_type": "stream",
          "name": "stdout",
          "text": [
            "[('abnormally', 0.44761747121810913), ('prolactinoma', 0.438173770904541), ('abnormal', 0.4374072551727295), ('neurologically', 0.42681434750556946), ('minora', 0.41136234998703003)]\n"
          ]
        }
      ]
    },
    {
      "cell_type": "code",
      "source": [
        "print(w2v_model4.wv.most_similar(positive=['husband','female'], negative=['male'],topn=5))"
      ],
      "metadata": {
        "colab": {
          "base_uri": "https://localhost:8080/"
        },
        "id": "5sKQJ7DSIiRA",
        "outputId": "d30f135e-33c5-4747-8c03-6345b34cd79e"
      },
      "execution_count": null,
      "outputs": [
        {
          "output_type": "stream",
          "name": "stdout",
          "text": [
            "[('wife', 0.7636353969573975), ('married', 0.7080977559089661), ('homosexual', 0.6985017657279968), ('same-sex', 0.6932131052017212), ('marriage', 0.6837477684020996)]\n"
          ]
        }
      ]
    },
    {
      "cell_type": "code",
      "source": [
        "print(w2v_model2.wv.most_similar(positive=['increase','maximise'], negative=['minimise'],topn=5))"
      ],
      "metadata": {
        "colab": {
          "base_uri": "https://localhost:8080/"
        },
        "id": "GHBBMXHiQcvE",
        "outputId": "382e3c09-68c5-495b-a3a1-0b6a40ec98dc"
      },
      "execution_count": null,
      "outputs": [
        {
          "output_type": "stream",
          "name": "stdout",
          "text": [
            "[('decrease', 0.6512426137924194), ('diminution', 0.5949548482894897), ('decline', 0.5458647012710571), ('reduction', 0.5304989814758301), ('decrement', 0.5239008665084839)]\n"
          ]
        }
      ]
    },
    {
      "cell_type": "code",
      "source": [
        "print(w2v_model6.wv.most_similar(positive=['lower','larger'], negative=['smaller'],topn=5))"
      ],
      "metadata": {
        "colab": {
          "base_uri": "https://localhost:8080/"
        },
        "id": "8Bm_9thKav0g",
        "outputId": "9d74352c-47c5-4acb-f3d9-510897636d51"
      },
      "execution_count": null,
      "outputs": [
        {
          "output_type": "stream",
          "name": "stdout",
          "text": [
            "[('higher', 0.8294529914855957), ('greater', 0.6044450998306274), ('poorer', 0.5218620300292969), ('stronger', 0.5190677642822266), ('highest', 0.497153639793396)]\n"
          ]
        }
      ]
    },
    {
      "cell_type": "code",
      "source": [
        ""
      ],
      "metadata": {
        "id": "JNuEuH-dc2zk"
      },
      "execution_count": null,
      "outputs": []
    }
  ]
}