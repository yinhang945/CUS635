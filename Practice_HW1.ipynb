{
  "cells": [
    {
      "cell_type": "markdown",
      "metadata": {
        "id": "view-in-github",
        "colab_type": "text"
      },
      "source": [
        "<a href=\"https://colab.research.google.com/github/yinhang945/CUS635/blob/main/Practice_HW1.ipynb\" target=\"_parent\"><img src=\"https://colab.research.google.com/assets/colab-badge.svg\" alt=\"Open In Colab\"/></a>"
      ]
    },
    {
      "cell_type": "code",
      "execution_count": 1,
      "metadata": {
        "colab": {
          "base_uri": "https://localhost:8080/"
        },
        "id": "9Xj6Jg6YiOyJ",
        "outputId": "c30cad43-98ce-4b43-f513-9f73e9307718"
      },
      "outputs": [
        {
          "output_type": "stream",
          "name": "stdout",
          "text": [
            "Collecting sh\n",
            "  Downloading sh-1.14.2-py2.py3-none-any.whl (40 kB)\n",
            "\u001b[?25l\r\u001b[K     |████████                        | 10 kB 15.1 MB/s eta 0:00:01\r\u001b[K     |████████████████                | 20 kB 9.9 MB/s eta 0:00:01\r\u001b[K     |████████████████████████▏       | 30 kB 7.8 MB/s eta 0:00:01\r\u001b[K     |████████████████████████████████| 40 kB 3.0 MB/s \n",
            "\u001b[?25hInstalling collected packages: sh\n",
            "Successfully installed sh-1.14.2\n"
          ]
        }
      ],
      "source": [
        "!pip install sh"
      ]
    },
    {
      "cell_type": "code",
      "source": [
        "import pandas as pd\n",
        "import ftplib\n",
        "from sh import gunzip\n",
        "from glob import glob\n",
        "import xml.etree.ElementTree as ET\n",
        "import random"
      ],
      "metadata": {
        "id": "-uNxc8TzOT96"
      },
      "execution_count": 32,
      "outputs": []
    },
    {
      "cell_type": "code",
      "source": [
        "ftp = ftplib.FTP('ftp.ncbi.nlm.nih.gov')\n",
        "ftp.login()\n",
        "ftp.cwd('/pubmed/baseline/')\n",
        "files = ftp.nlst()\n",
        "for file in files[:10]:\n",
        "  if file[-3:] == '.gz': \n",
        "    print(\"Downloading...\" + file)\n",
        "    ftp.retrbinary(\"RETR \" + file ,open('/content/' + file, 'wb').write)\n",
        "    gunzip(file)\n",
        "ftp.close()"
      ],
      "metadata": {
        "colab": {
          "base_uri": "https://localhost:8080/"
        },
        "id": "EwjzNRDxn70V",
        "outputId": "b1336fae-6ef7-432f-ee29-4c859e6c2e22"
      },
      "execution_count": 3,
      "outputs": [
        {
          "output_type": "stream",
          "name": "stdout",
          "text": [
            "Downloading...pubmed22n0003.xml.gz\n",
            "Downloading...pubmed22n0002.xml.gz\n",
            "Downloading...pubmed22n0004.xml.gz\n",
            "Downloading...pubmed22n0001.xml.gz\n",
            "Downloading...pubmed22n0005.xml.gz\n"
          ]
        }
      ]
    },
    {
      "cell_type": "code",
      "source": [
        "data =  []                               # INITIALIZE DATA LIST\n",
        "for xml_file in glob('*.xml'):\n",
        "    for event, elem in ET.iterparse(xml_file, events=('start', 'end')):\n",
        "        if event == 'start':\n",
        "            if elem.tag == \"PubmedArticle\":\n",
        "                pub = {}                 # INITIALIZE ARTICLE DICT\n",
        "\n",
        "            if elem.tag == 'ArticleTitle':\n",
        "                pub[\"Title\"] = elem.text\n",
        "                #pub[\"Abstract\"] = []\n",
        "\n",
        "            if elem.tag == 'AbstractText':\n",
        "                pub[\"Abstract\"] = elem.text\n",
        "                \n",
        "\n",
        "        if event == 'end':\n",
        "            if elem.tag == \"PubmedArticle\":\n",
        "                #pub[\"Source\"] = xml_file\n",
        "                data.append(pub)         # APPEND MULTIPLE ARTICLES\n",
        "\n",
        "        elem.clear()"
      ],
      "metadata": {
        "id": "dadznpJdNMIR"
      },
      "execution_count": 26,
      "outputs": []
    },
    {
      "cell_type": "code",
      "source": [
        "data[56]"
      ],
      "metadata": {
        "colab": {
          "base_uri": "https://localhost:8080/"
        },
        "id": "alfAtiopAh2D",
        "outputId": "01152d5a-4df8-40f7-9c78-e3070d85c41e"
      },
      "execution_count": 27,
      "outputs": [
        {
          "output_type": "execute_result",
          "data": {
            "text/plain": [
              "{'Abstract': \"The interpretation of the morphological features of alcoholic hepatitis is discussed in terms of a comparison with the results of an ultrastructural and histoenzymological study of the liver biopsies of nine patients. In these patients liver biopsies were performed in the initial stage of the illness and fifteen days after five were re-biopsied, when the clinical and biological signs were improved. The correlations between morphological and biological data were good, especially for the levels of serological and histoenzymological alkaline phosphatase and gamma-glutamyltranspeptidase evaluations. However, when histological appearances had returned to normal, after two weeks of abstinence from alcohol several histological and ultrastructural features of the initial hepatitis persisted. The presence of evolving cirrhosis was a contributing factor to the severity of the changes seen. Morphologically, apart from the changes due to chronic alcoholic intoxication (steatosis, mitochondrial alteration), the hepatitic lesions comprise Mallory's bodies, cytoplasmic oedema and mitochondrial swelling. Cholestasis was invariably present. Histo-enzymologically there was a reduction in ATPase activity suggesting a metabolic failure in the energy producing pathways. In addition, in the periphery of lobules an active cirrhotic process was present, with tubular de-differentiation of hepatocytes and an increase in gamma-glutamyltranspeptidase on the cytoplasmic membrane. Because of the absence of any topographical relationship between hepatitis and cirrhosis, the presence of lymphocytes in the neighbourhood of the ductules suggested an indirect relationship between both processes, perhaps an autoimmune response initiated by Mallory's bodies.\",\n",
              " 'Title': \"[The hepatocyte in acute alcoholic hepatitis. Histoenzymological and ultrastructural analysis (author's transl)].\"}"
            ]
          },
          "metadata": {},
          "execution_count": 27
        }
      ]
    },
    {
      "cell_type": "code",
      "execution_count": 28,
      "metadata": {
        "colab": {
          "base_uri": "https://localhost:8080/",
          "height": 206
        },
        "id": "FXuFjgetiOyO",
        "outputId": "3d7fc43a-070c-4f55-b438-c380c086af33"
      },
      "outputs": [
        {
          "output_type": "execute_result",
          "data": {
            "text/html": [
              "\n",
              "  <div id=\"df-b963577d-14aa-4d1d-9315-3b906b2020ac\">\n",
              "    <div class=\"colab-df-container\">\n",
              "      <div>\n",
              "<style scoped>\n",
              "    .dataframe tbody tr th:only-of-type {\n",
              "        vertical-align: middle;\n",
              "    }\n",
              "\n",
              "    .dataframe tbody tr th {\n",
              "        vertical-align: top;\n",
              "    }\n",
              "\n",
              "    .dataframe thead th {\n",
              "        text-align: right;\n",
              "    }\n",
              "</style>\n",
              "<table border=\"1\" class=\"dataframe\">\n",
              "  <thead>\n",
              "    <tr style=\"text-align: right;\">\n",
              "      <th></th>\n",
              "      <th>Title</th>\n",
              "      <th>Abstract</th>\n",
              "      <th>Concatenate</th>\n",
              "    </tr>\n",
              "  </thead>\n",
              "  <tbody>\n",
              "    <tr>\n",
              "      <th>0</th>\n",
              "      <td>[Beta-blockers and arterial hypertension in th...</td>\n",
              "      <td>NaN</td>\n",
              "      <td>[Beta-blockers and arterial hypertension in th...</td>\n",
              "    </tr>\n",
              "    <tr>\n",
              "      <th>1</th>\n",
              "      <td>[beta-blockers and high risk pregnancies. View...</td>\n",
              "      <td>NaN</td>\n",
              "      <td>[beta-blockers and high risk pregnancies. View...</td>\n",
              "    </tr>\n",
              "    <tr>\n",
              "      <th>2</th>\n",
              "      <td>[Surface defense mechanisms of the nasal mucosa].</td>\n",
              "      <td>NaN</td>\n",
              "      <td>[Surface defense mechanisms of the nasal mucosa].</td>\n",
              "    </tr>\n",
              "    <tr>\n",
              "      <th>3</th>\n",
              "      <td>[Pharmacological treatment of coronary disease].</td>\n",
              "      <td>NaN</td>\n",
              "      <td>[Pharmacological treatment of coronary disease].</td>\n",
              "    </tr>\n",
              "    <tr>\n",
              "      <th>4</th>\n",
              "      <td>Treating the outpatient schizophrenic.</td>\n",
              "      <td>NaN</td>\n",
              "      <td>Treating the outpatient schizophrenic.</td>\n",
              "    </tr>\n",
              "  </tbody>\n",
              "</table>\n",
              "</div>\n",
              "      <button class=\"colab-df-convert\" onclick=\"convertToInteractive('df-b963577d-14aa-4d1d-9315-3b906b2020ac')\"\n",
              "              title=\"Convert this dataframe to an interactive table.\"\n",
              "              style=\"display:none;\">\n",
              "        \n",
              "  <svg xmlns=\"http://www.w3.org/2000/svg\" height=\"24px\"viewBox=\"0 0 24 24\"\n",
              "       width=\"24px\">\n",
              "    <path d=\"M0 0h24v24H0V0z\" fill=\"none\"/>\n",
              "    <path d=\"M18.56 5.44l.94 2.06.94-2.06 2.06-.94-2.06-.94-.94-2.06-.94 2.06-2.06.94zm-11 1L8.5 8.5l.94-2.06 2.06-.94-2.06-.94L8.5 2.5l-.94 2.06-2.06.94zm10 10l.94 2.06.94-2.06 2.06-.94-2.06-.94-.94-2.06-.94 2.06-2.06.94z\"/><path d=\"M17.41 7.96l-1.37-1.37c-.4-.4-.92-.59-1.43-.59-.52 0-1.04.2-1.43.59L10.3 9.45l-7.72 7.72c-.78.78-.78 2.05 0 2.83L4 21.41c.39.39.9.59 1.41.59.51 0 1.02-.2 1.41-.59l7.78-7.78 2.81-2.81c.8-.78.8-2.07 0-2.86zM5.41 20L4 18.59l7.72-7.72 1.47 1.35L5.41 20z\"/>\n",
              "  </svg>\n",
              "      </button>\n",
              "      \n",
              "  <style>\n",
              "    .colab-df-container {\n",
              "      display:flex;\n",
              "      flex-wrap:wrap;\n",
              "      gap: 12px;\n",
              "    }\n",
              "\n",
              "    .colab-df-convert {\n",
              "      background-color: #E8F0FE;\n",
              "      border: none;\n",
              "      border-radius: 50%;\n",
              "      cursor: pointer;\n",
              "      display: none;\n",
              "      fill: #1967D2;\n",
              "      height: 32px;\n",
              "      padding: 0 0 0 0;\n",
              "      width: 32px;\n",
              "    }\n",
              "\n",
              "    .colab-df-convert:hover {\n",
              "      background-color: #E2EBFA;\n",
              "      box-shadow: 0px 1px 2px rgba(60, 64, 67, 0.3), 0px 1px 3px 1px rgba(60, 64, 67, 0.15);\n",
              "      fill: #174EA6;\n",
              "    }\n",
              "\n",
              "    [theme=dark] .colab-df-convert {\n",
              "      background-color: #3B4455;\n",
              "      fill: #D2E3FC;\n",
              "    }\n",
              "\n",
              "    [theme=dark] .colab-df-convert:hover {\n",
              "      background-color: #434B5C;\n",
              "      box-shadow: 0px 1px 3px 1px rgba(0, 0, 0, 0.15);\n",
              "      filter: drop-shadow(0px 1px 2px rgba(0, 0, 0, 0.3));\n",
              "      fill: #FFFFFF;\n",
              "    }\n",
              "  </style>\n",
              "\n",
              "      <script>\n",
              "        const buttonEl =\n",
              "          document.querySelector('#df-b963577d-14aa-4d1d-9315-3b906b2020ac button.colab-df-convert');\n",
              "        buttonEl.style.display =\n",
              "          google.colab.kernel.accessAllowed ? 'block' : 'none';\n",
              "\n",
              "        async function convertToInteractive(key) {\n",
              "          const element = document.querySelector('#df-b963577d-14aa-4d1d-9315-3b906b2020ac');\n",
              "          const dataTable =\n",
              "            await google.colab.kernel.invokeFunction('convertToInteractive',\n",
              "                                                     [key], {});\n",
              "          if (!dataTable) return;\n",
              "\n",
              "          const docLinkHtml = 'Like what you see? Visit the ' +\n",
              "            '<a target=\"_blank\" href=https://colab.research.google.com/notebooks/data_table.ipynb>data table notebook</a>'\n",
              "            + ' to learn more about interactive tables.';\n",
              "          element.innerHTML = '';\n",
              "          dataTable['output_type'] = 'display_data';\n",
              "          await google.colab.output.renderOutput(dataTable, element);\n",
              "          const docLink = document.createElement('div');\n",
              "          docLink.innerHTML = docLinkHtml;\n",
              "          element.appendChild(docLink);\n",
              "        }\n",
              "      </script>\n",
              "    </div>\n",
              "  </div>\n",
              "  "
            ],
            "text/plain": [
              "                                               Title  ...                                        Concatenate\n",
              "0  [Beta-blockers and arterial hypertension in th...  ...  [Beta-blockers and arterial hypertension in th...\n",
              "1  [beta-blockers and high risk pregnancies. View...  ...  [beta-blockers and high risk pregnancies. View...\n",
              "2  [Surface defense mechanisms of the nasal mucosa].  ...  [Surface defense mechanisms of the nasal mucosa].\n",
              "3   [Pharmacological treatment of coronary disease].  ...   [Pharmacological treatment of coronary disease].\n",
              "4             Treating the outpatient schizophrenic.  ...             Treating the outpatient schizophrenic.\n",
              "\n",
              "[5 rows x 3 columns]"
            ]
          },
          "metadata": {},
          "execution_count": 28
        }
      ],
      "source": [
        "df = pd.DataFrame(data)\n",
        "df['Concatenate'] = df.fillna('').sum(axis=1)\n",
        "df.head()"
      ]
    },
    {
      "cell_type": "code",
      "source": [
        "final_df = df['Concatenate']\n",
        "final_df.tail()"
      ],
      "metadata": {
        "id": "P4RhNaMMFMbl",
        "outputId": "0d402683-e859-4de4-c56c-1336109a98fa",
        "colab": {
          "base_uri": "https://localhost:8080/"
        }
      },
      "execution_count": 30,
      "outputs": [
        {
          "output_type": "execute_result",
          "data": {
            "text/plain": [
              "149995    [Place of beta-blockers in the treatment of es...\n",
              "149996    [Long-term utilization of beta-blockers in art...\n",
              "149997    [beta-blockers in hypertension with renal fail...\n",
              "149998    [Treatment by beta-blockers of arterial hypert...\n",
              "149999    [Beta-blockers and arterial hypertension in th...\n",
              "Name: Concatenate, dtype: object"
            ]
          },
          "metadata": {},
          "execution_count": 30
        }
      ]
    },
    {
      "cell_type": "code",
      "source": [
        "final_df.to_csv('pubmed_abstracts.csv', encoding='utf-8')"
      ],
      "metadata": {
        "id": "edhvTtWA3RZF"
      },
      "execution_count": 31,
      "outputs": []
    },
    {
      "cell_type": "code",
      "source": [
        "def generate_sample(n):\n",
        "  filename = 'pubmed_abstracts.csv'\n",
        "  total = sum(1 for line in open(filename)) - 1 #number of records in file (excludes header)\n",
        "  sample = n #desired sample size\n",
        "  skip = sorted(random.sample(range(1,total+1),total-sample)) #the 0-indexed header will not be included in the skip list\n",
        "  sample_df = pd.read_csv(filename, skiprows=skip)\n",
        "  return sample_df"
      ],
      "metadata": {
        "id": "SeVIPstB7gSH"
      },
      "execution_count": 33,
      "outputs": []
    },
    {
      "cell_type": "code",
      "source": [
        "sample_df = generate_sample(100000)"
      ],
      "metadata": {
        "id": "O-gbHHMS-D8l"
      },
      "execution_count": 35,
      "outputs": []
    },
    {
      "cell_type": "code",
      "source": [
        "sample_df"
      ],
      "metadata": {
        "id": "-Bp2tbtL-Ite",
        "outputId": "62e552fa-ee72-4ec5-852f-6690f5cc171c",
        "colab": {
          "base_uri": "https://localhost:8080/",
          "height": 424
        }
      },
      "execution_count": 36,
      "outputs": [
        {
          "output_type": "execute_result",
          "data": {
            "text/html": [
              "\n",
              "  <div id=\"df-8b24f0fa-9651-403a-9555-36c6a2fae902\">\n",
              "    <div class=\"colab-df-container\">\n",
              "      <div>\n",
              "<style scoped>\n",
              "    .dataframe tbody tr th:only-of-type {\n",
              "        vertical-align: middle;\n",
              "    }\n",
              "\n",
              "    .dataframe tbody tr th {\n",
              "        vertical-align: top;\n",
              "    }\n",
              "\n",
              "    .dataframe thead th {\n",
              "        text-align: right;\n",
              "    }\n",
              "</style>\n",
              "<table border=\"1\" class=\"dataframe\">\n",
              "  <thead>\n",
              "    <tr style=\"text-align: right;\">\n",
              "      <th></th>\n",
              "      <th>Unnamed: 0</th>\n",
              "      <th>Concatenate</th>\n",
              "    </tr>\n",
              "  </thead>\n",
              "  <tbody>\n",
              "    <tr>\n",
              "      <th>0</th>\n",
              "      <td>0</td>\n",
              "      <td>[Beta-blockers and arterial hypertension in th...</td>\n",
              "    </tr>\n",
              "    <tr>\n",
              "      <th>1</th>\n",
              "      <td>2</td>\n",
              "      <td>[Surface defense mechanisms of the nasal mucosa].</td>\n",
              "    </tr>\n",
              "    <tr>\n",
              "      <th>2</th>\n",
              "      <td>3</td>\n",
              "      <td>[Pharmacological treatment of coronary disease].</td>\n",
              "    </tr>\n",
              "    <tr>\n",
              "      <th>3</th>\n",
              "      <td>4</td>\n",
              "      <td>Treating the outpatient schizophrenic.</td>\n",
              "    </tr>\n",
              "    <tr>\n",
              "      <th>4</th>\n",
              "      <td>5</td>\n",
              "      <td>[An evaluation of lorazépam (temesta) in out-p...</td>\n",
              "    </tr>\n",
              "    <tr>\n",
              "      <th>...</th>\n",
              "      <td>...</td>\n",
              "      <td>...</td>\n",
              "    </tr>\n",
              "    <tr>\n",
              "      <th>99995</th>\n",
              "      <td>149994</td>\n",
              "      <td>[Utilization of pindolol in arterial hypertens...</td>\n",
              "    </tr>\n",
              "    <tr>\n",
              "      <th>99996</th>\n",
              "      <td>149995</td>\n",
              "      <td>[Place of beta-blockers in the treatment of es...</td>\n",
              "    </tr>\n",
              "    <tr>\n",
              "      <th>99997</th>\n",
              "      <td>149996</td>\n",
              "      <td>[Long-term utilization of beta-blockers in art...</td>\n",
              "    </tr>\n",
              "    <tr>\n",
              "      <th>99998</th>\n",
              "      <td>149997</td>\n",
              "      <td>[beta-blockers in hypertension with renal fail...</td>\n",
              "    </tr>\n",
              "    <tr>\n",
              "      <th>99999</th>\n",
              "      <td>149998</td>\n",
              "      <td>[Treatment by beta-blockers of arterial hypert...</td>\n",
              "    </tr>\n",
              "  </tbody>\n",
              "</table>\n",
              "<p>100000 rows × 2 columns</p>\n",
              "</div>\n",
              "      <button class=\"colab-df-convert\" onclick=\"convertToInteractive('df-8b24f0fa-9651-403a-9555-36c6a2fae902')\"\n",
              "              title=\"Convert this dataframe to an interactive table.\"\n",
              "              style=\"display:none;\">\n",
              "        \n",
              "  <svg xmlns=\"http://www.w3.org/2000/svg\" height=\"24px\"viewBox=\"0 0 24 24\"\n",
              "       width=\"24px\">\n",
              "    <path d=\"M0 0h24v24H0V0z\" fill=\"none\"/>\n",
              "    <path d=\"M18.56 5.44l.94 2.06.94-2.06 2.06-.94-2.06-.94-.94-2.06-.94 2.06-2.06.94zm-11 1L8.5 8.5l.94-2.06 2.06-.94-2.06-.94L8.5 2.5l-.94 2.06-2.06.94zm10 10l.94 2.06.94-2.06 2.06-.94-2.06-.94-.94-2.06-.94 2.06-2.06.94z\"/><path d=\"M17.41 7.96l-1.37-1.37c-.4-.4-.92-.59-1.43-.59-.52 0-1.04.2-1.43.59L10.3 9.45l-7.72 7.72c-.78.78-.78 2.05 0 2.83L4 21.41c.39.39.9.59 1.41.59.51 0 1.02-.2 1.41-.59l7.78-7.78 2.81-2.81c.8-.78.8-2.07 0-2.86zM5.41 20L4 18.59l7.72-7.72 1.47 1.35L5.41 20z\"/>\n",
              "  </svg>\n",
              "      </button>\n",
              "      \n",
              "  <style>\n",
              "    .colab-df-container {\n",
              "      display:flex;\n",
              "      flex-wrap:wrap;\n",
              "      gap: 12px;\n",
              "    }\n",
              "\n",
              "    .colab-df-convert {\n",
              "      background-color: #E8F0FE;\n",
              "      border: none;\n",
              "      border-radius: 50%;\n",
              "      cursor: pointer;\n",
              "      display: none;\n",
              "      fill: #1967D2;\n",
              "      height: 32px;\n",
              "      padding: 0 0 0 0;\n",
              "      width: 32px;\n",
              "    }\n",
              "\n",
              "    .colab-df-convert:hover {\n",
              "      background-color: #E2EBFA;\n",
              "      box-shadow: 0px 1px 2px rgba(60, 64, 67, 0.3), 0px 1px 3px 1px rgba(60, 64, 67, 0.15);\n",
              "      fill: #174EA6;\n",
              "    }\n",
              "\n",
              "    [theme=dark] .colab-df-convert {\n",
              "      background-color: #3B4455;\n",
              "      fill: #D2E3FC;\n",
              "    }\n",
              "\n",
              "    [theme=dark] .colab-df-convert:hover {\n",
              "      background-color: #434B5C;\n",
              "      box-shadow: 0px 1px 3px 1px rgba(0, 0, 0, 0.15);\n",
              "      filter: drop-shadow(0px 1px 2px rgba(0, 0, 0, 0.3));\n",
              "      fill: #FFFFFF;\n",
              "    }\n",
              "  </style>\n",
              "\n",
              "      <script>\n",
              "        const buttonEl =\n",
              "          document.querySelector('#df-8b24f0fa-9651-403a-9555-36c6a2fae902 button.colab-df-convert');\n",
              "        buttonEl.style.display =\n",
              "          google.colab.kernel.accessAllowed ? 'block' : 'none';\n",
              "\n",
              "        async function convertToInteractive(key) {\n",
              "          const element = document.querySelector('#df-8b24f0fa-9651-403a-9555-36c6a2fae902');\n",
              "          const dataTable =\n",
              "            await google.colab.kernel.invokeFunction('convertToInteractive',\n",
              "                                                     [key], {});\n",
              "          if (!dataTable) return;\n",
              "\n",
              "          const docLinkHtml = 'Like what you see? Visit the ' +\n",
              "            '<a target=\"_blank\" href=https://colab.research.google.com/notebooks/data_table.ipynb>data table notebook</a>'\n",
              "            + ' to learn more about interactive tables.';\n",
              "          element.innerHTML = '';\n",
              "          dataTable['output_type'] = 'display_data';\n",
              "          await google.colab.output.renderOutput(dataTable, element);\n",
              "          const docLink = document.createElement('div');\n",
              "          docLink.innerHTML = docLinkHtml;\n",
              "          element.appendChild(docLink);\n",
              "        }\n",
              "      </script>\n",
              "    </div>\n",
              "  </div>\n",
              "  "
            ],
            "text/plain": [
              "       Unnamed: 0                                        Concatenate\n",
              "0               0  [Beta-blockers and arterial hypertension in th...\n",
              "1               2  [Surface defense mechanisms of the nasal mucosa].\n",
              "2               3   [Pharmacological treatment of coronary disease].\n",
              "3               4             Treating the outpatient schizophrenic.\n",
              "4               5  [An evaluation of lorazépam (temesta) in out-p...\n",
              "...           ...                                                ...\n",
              "99995      149994  [Utilization of pindolol in arterial hypertens...\n",
              "99996      149995  [Place of beta-blockers in the treatment of es...\n",
              "99997      149996  [Long-term utilization of beta-blockers in art...\n",
              "99998      149997  [beta-blockers in hypertension with renal fail...\n",
              "99999      149998  [Treatment by beta-blockers of arterial hypert...\n",
              "\n",
              "[100000 rows x 2 columns]"
            ]
          },
          "metadata": {},
          "execution_count": 36
        }
      ]
    },
    {
      "cell_type": "code",
      "source": [
        "sample_df.to_csv('<The Avengers>_pubmed_sample.csv')"
      ],
      "metadata": {
        "id": "YlTjJnM6-aHg"
      },
      "execution_count": 37,
      "outputs": []
    },
    {
      "cell_type": "code",
      "source": [
        ""
      ],
      "metadata": {
        "id": "kCWEpz1T-uOS"
      },
      "execution_count": null,
      "outputs": []
    }
  ],
  "metadata": {
    "kernelspec": {
      "display_name": "Python 3",
      "language": "python",
      "name": "python3"
    },
    "language_info": {
      "codemirror_mode": {
        "name": "ipython",
        "version": 3
      },
      "file_extension": ".py",
      "mimetype": "text/x-python",
      "name": "python",
      "nbconvert_exporter": "python",
      "pygments_lexer": "ipython3",
      "version": "3.8.5"
    },
    "colab": {
      "name": "Practice HW1.ipynb",
      "provenance": [],
      "include_colab_link": true
    }
  },
  "nbformat": 4,
  "nbformat_minor": 0
}